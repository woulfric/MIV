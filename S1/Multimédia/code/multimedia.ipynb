{
 "cells": [
  {
   "cell_type": "code",
   "execution_count": 20,
   "metadata": {},
   "outputs": [],
   "source": [
    "import numpy as np\n",
    "import matplotlib as plt\n",
    "import qrcode\n",
    "import warnings\n",
    "import cv2"
   ]
  },
  {
   "cell_type": "code",
   "execution_count": 15,
   "metadata": {},
   "outputs": [],
   "source": [
    "n=np.array(\n",
    "    [\n",
    "        [0,255,0,255,0,255],\n",
    "        [255,0,255,0,255,0],\n",
    "        [0,255,0,255,0,255],\n",
    "        [255,0,255,0,255,0],\n",
    "        [0,255,0,255,0,255],\n",
    "        [255,0,255,0,255,0]\n",
    "    ]\n",
    ")"
   ]
  },
  {
   "cell_type": "code",
   "execution_count": 16,
   "metadata": {},
   "outputs": [
    {
     "data": {
      "text/plain": [
       "(6, 6)"
      ]
     },
     "execution_count": 16,
     "metadata": {},
     "output_type": "execute_result"
    }
   ],
   "source": [
    "n.shape"
   ]
  },
  {
   "cell_type": "code",
   "execution_count": 17,
   "metadata": {},
   "outputs": [
    {
     "data": {
      "text/plain": [
       "array([  0, 255,   0, 255,   0, 255, 255,   0, 255,   0, 255,   0,   0,\n",
       "       255,   0, 255,   0, 255, 255,   0, 255,   0, 255,   0,   0, 255,\n",
       "         0, 255,   0, 255, 255,   0, 255,   0, 255,   0])"
      ]
     },
     "execution_count": 17,
     "metadata": {},
     "output_type": "execute_result"
    }
   ],
   "source": [
    "n_f = n.flatten()\n",
    "n_f"
   ]
  },
  {
   "cell_type": "code",
   "execution_count": 18,
   "metadata": {},
   "outputs": [],
   "source": [
    "def encode(image, file_name='compressed_image.txt', bits=15):\n",
    "\n",
    "    count_list = []\n",
    "    count = 0\n",
    "    prev = None\n",
    "    fimage = image.flatten()\n",
    "    size = 2**(bits+1) - 2**bits #32768 = 8000H\n",
    "    \n",
    "    for pixel in fimage:\n",
    "        \n",
    "        if prev == None:\n",
    "            prev = pixel \n",
    "            count += 1\n",
    "        else:\n",
    "            if prev != pixel: # The current pixel is different from the previous one\n",
    "                if count >= 3:\n",
    "                    count_list.append((size+count, [prev]))\n",
    "                else:\n",
    "                    if count_list == []:\n",
    "                        count_list.append((count, [prev]*count))\n",
    "                    else: \n",
    "                        c, color = count_list[-1]\n",
    "                        if c > size: \n",
    "                            count_list.append((count, [prev]*count))\n",
    "                        else:\n",
    "                            if c+count <= (2**bits)-1: # Make sure that we didn't use all of the 15 bits reserved for the color's sequence length \n",
    "                                count_list[-1] = (c+count, color+[prev]*count)\n",
    "                            else:\n",
    "                                count_list.append((count, [prev]*count))\n",
    "                prev = pixel\n",
    "                count = 1\n",
    "            else: # The current pixel is like the previous one\n",
    "                if count < (2**bits)-1: # Make sure that we didn't use all of the 15 bits reserved for the number of repetitions \n",
    "                    count += 1                    \n",
    "                else:\n",
    "                    count_list.append((size+count, [prev]))\n",
    "                    prev = pixel\n",
    "                    count = 1\n",
    "\n",
    "    if count >= 3:\n",
    "        count_list.append((size+count, [prev]))\n",
    "    else:\n",
    "        c, color = count_list[-1]\n",
    "        if c > size:\n",
    "            count_list.append((count, [prev]*count))\n",
    "        else:\n",
    "            if c+count <= (2**bits)-1:\n",
    "                count_list[-1] = (c+count, color+[prev]*count)\n",
    "            else:\n",
    "                count_list.append((count, [prev]*count))\n",
    "\n",
    "    # Hexa encoding\n",
    "    with open(file_name,\"w\") as file:\n",
    "        hexa_encoded = \"\".join(map(lambda x: \"{0:04x}\".format(x[0])+\"\".join(map(lambda y: \"{0:02x}\".format(y), x[1])), count_list))\n",
    "        \"\"\" hexa_encoded = \"\"\n",
    "        for count, colors in count_list:\n",
    "            hexa_encoded += \"{0:04x}\".format(count)\n",
    "            for color in colors:\n",
    "                hexa_encoded += \"{0:02x}\".format(color) \"\"\"\n",
    "        file.write(hexa_encoded)\n",
    "        \n",
    "    # Compression rate\n",
    "    rate = (1-(len(hexa_encoded)/2)/len(fimage))*100\n",
    "    \n",
    "    return hexa_encoded, rate"
   ]
  },
  {
   "cell_type": "code",
   "execution_count": 19,
   "metadata": {},
   "outputs": [
    {
     "data": {
      "text/plain": [
       "('002400ff00ff00ffff00ff00ff0000ff00ff00ffff00ff00ff0000ff00ff00ffff00ff00ff00',\n",
       " -5.555555555555558)"
      ]
     },
     "execution_count": 19,
     "metadata": {},
     "output_type": "execute_result"
    }
   ],
   "source": [
    "encode(n)"
   ]
  },
  {
   "cell_type": "code",
   "execution_count": 21,
   "metadata": {},
   "outputs": [],
   "source": [
    "image1_np = np.array([[0, 1, 0, 1, 0, 1], \n",
    "                    [1, 0, 1, 0, 1, 0],\n",
    "                    [0, 1, 0, 1, 0, 1],\n",
    "                    [1, 0, 1, 0, 1, 0], \n",
    "                    [0, 1, 0, 1, 0, 1],\n",
    "                    [1, 0, 1, 0, 1, 0]])*255\n",
    "\n",
    "image2_np = np.array([[0, 0, 0, 1, 1, 1], \n",
    "                    [1, 1, 1, 0, 0, 0],\n",
    "                    [0, 0, 0, 1, 1, 1],\n",
    "                    [0, 0, 0, 1, 1, 1], \n",
    "                    [1, 1, 1, 0, 0, 0],\n",
    "                    [0, 0, 0, 1, 1, 1]])*255\n",
    "\n",
    "image3_np = np.array([[0, 0, 0, 0, 0, 0], \n",
    "                    [0, 0, 0, 0, 0, 0],\n",
    "                    [1, 1, 1, 1, 1, 1],\n",
    "                    [1, 1, 1, 1, 1, 1], \n",
    "                    [0, 0, 0, 0, 0, 0],\n",
    "                    [0, 0, 0, 0, 0, 0]])*255"
   ]
  },
  {
   "cell_type": "code",
   "execution_count": 37,
   "metadata": {},
   "outputs": [
    {
     "name": "stdout",
     "output_type": "stream",
     "text": [
      "8003008006ff8006008003ff8003008006ff8006008003ff 33.333333333333336\n"
     ]
    }
   ],
   "source": [
    "code , rate = encode(image2_np)\n",
    "print(code, rate)"
   ]
  },
  {
   "cell_type": "code",
   "execution_count": 39,
   "metadata": {},
   "outputs": [],
   "source": [
    "def decode(coded_image):\n",
    "    i=0\n",
    "    decoded_image = []\n",
    "    while (i<len(coded_image)):\n",
    "        binary_value = str(bin(int(coded_image[i], 16)))[2:].zfill(16)\n",
    "        if(binary_value[0] == \"1\"):\n",
    "            values_to_add = int(binary_value[1:], 2)\n",
    "            decoded_image = decoded_image +  [coded_image[i+1]] * values_to_add\n",
    "            i=i+2\n",
    "        else:\n",
    "            counter = int(binary_value, 2)\n",
    "            decoded_image = decoded_image + [value for value in coded_image[i+1:i+counter+1]]\n",
    "            i =  counter + 1\n",
    "    return np.array(decoded_image)"
   ]
  },
  {
   "cell_type": "code",
   "execution_count": null,
   "metadata": {},
   "outputs": [],
   "source": []
  }
 ],
 "metadata": {
  "kernelspec": {
   "display_name": "Python 3.10.4 64-bit",
   "language": "python",
   "name": "python3"
  },
  "language_info": {
   "codemirror_mode": {
    "name": "ipython",
    "version": 3
   },
   "file_extension": ".py",
   "mimetype": "text/x-python",
   "name": "python",
   "nbconvert_exporter": "python",
   "pygments_lexer": "ipython3",
   "version": "3.10.4"
  },
  "orig_nbformat": 4,
  "vscode": {
   "interpreter": {
    "hash": "c3cb1dd373ca4450157e6f8978f97933cc3a7cdc0a8066204e60afd9526c388d"
   }
  }
 },
 "nbformat": 4,
 "nbformat_minor": 2
}
