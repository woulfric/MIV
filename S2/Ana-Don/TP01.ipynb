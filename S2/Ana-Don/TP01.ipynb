{
  "cells": [
    {
      "cell_type": "code",
      "execution_count": 106,
      "metadata": {
        "id": "EJo1QzmMT9wE"
      },
      "outputs": [],
      "source": [
        "import math\n",
        "import statistics\n",
        "import numpy as np\n",
        "import pandas as pd\n",
        "import scipy \n",
        "import matplotlib.pyplot as plt "
      ]
    },
    {
      "cell_type": "markdown",
      "metadata": {
        "id": "GPALRoQlXRzH"
      },
      "source": [
        "# **1-**"
      ]
    },
    {
      "cell_type": "code",
      "execution_count": 107,
      "metadata": {
        "id": "kVfLeFI9Uh9k"
      },
      "outputs": [],
      "source": [
        "X=[\n",
        "    [14, 13, 1.50, 45],\n",
        "    [16, 16, 1.60, 50],\n",
        "    [15, 13, 1.65, 50],\n",
        "    [9 , 15, 1.75, 60],\n",
        "    [10, 14, 1.70, 60],\n",
        "    [7 , 14, 1.70, 60],\n",
        "    [8 , 14, 1.60, 70],\n",
        "    [13, 13, 1.60, 65],\n",
        "    [17, 15, 1.55, 60],\n",
        "    [11, 14, 1.70, 65]\n",
        "]"
      ]
    },
    {
      "cell_type": "code",
      "execution_count": 108,
      "metadata": {
        "colab": {
          "base_uri": "https://localhost:8080/"
        },
        "id": "49OcACEsVfB2",
        "outputId": "8fbf72d5-c222-44b4-9ee6-e7a4e3485c97"
      },
      "outputs": [
        {
          "data": {
            "text/plain": [
              "array([[14.  , 13.  ,  1.5 , 45.  ],\n",
              "       [16.  , 16.  ,  1.6 , 50.  ],\n",
              "       [15.  , 13.  ,  1.65, 50.  ],\n",
              "       [ 9.  , 15.  ,  1.75, 60.  ],\n",
              "       [10.  , 14.  ,  1.7 , 60.  ],\n",
              "       [ 7.  , 14.  ,  1.7 , 60.  ],\n",
              "       [ 8.  , 14.  ,  1.6 , 70.  ],\n",
              "       [13.  , 13.  ,  1.6 , 65.  ],\n",
              "       [17.  , 15.  ,  1.55, 60.  ],\n",
              "       [11.  , 14.  ,  1.7 , 65.  ]])"
            ]
          },
          "execution_count": 108,
          "metadata": {},
          "output_type": "execute_result"
        }
      ],
      "source": [
        "X=np.array(X)\n",
        "X"
      ]
    },
    {
      "cell_type": "code",
      "execution_count": 109,
      "metadata": {
        "colab": {
          "base_uri": "https://localhost:8080/"
        },
        "id": "o6AYHXtcV9VN",
        "outputId": "85eb92c6-cf65-412d-c27a-3ff8d50de515"
      },
      "outputs": [
        {
          "data": {
            "text/plain": [
              "['enfant1',\n",
              " 'enfant2',\n",
              " 'enfant3',\n",
              " 'enfant4',\n",
              " 'enfant5',\n",
              " 'enfant6',\n",
              " 'enfant7',\n",
              " 'enfant8',\n",
              " 'enfant9',\n",
              " 'enfant10']"
            ]
          },
          "execution_count": 109,
          "metadata": {},
          "output_type": "execute_result"
        }
      ],
      "source": [
        "ind=list()\n",
        "for i in range(10):\n",
        "  ind.append('enfant'+str(i+1))\n",
        "ind"
      ]
    },
    {
      "cell_type": "code",
      "execution_count": 110,
      "metadata": {},
      "outputs": [],
      "source": [
        "X1=[\n",
        "    [14,13,1.50,45],\n",
        "   [16,16,1.60,50],\n",
        "   [15,13,1.65,50],\n",
        "   [9,15,1.75,60],\n",
        "   [10,14,1.70,60],\n",
        "   [7,14,1.70,60],\n",
        "   [8,14,1.60,70],\n",
        "   [13,13,1.60,65],\n",
        "   [17,15,1.55,60],\n",
        "   [11,14,1.70,65]\n",
        "]"
      ]
    },
    {
      "cell_type": "code",
      "execution_count": 111,
      "metadata": {
        "colab": {
          "base_uri": "https://localhost:8080/",
          "height": 363
        },
        "id": "I7ixmFyAVkzu",
        "outputId": "52ced136-daeb-4768-fc83-9cc372962eda"
      },
      "outputs": [
        {
          "data": {
            "text/html": [
              "<div>\n",
              "<style scoped>\n",
              "    .dataframe tbody tr th:only-of-type {\n",
              "        vertical-align: middle;\n",
              "    }\n",
              "\n",
              "    .dataframe tbody tr th {\n",
              "        vertical-align: top;\n",
              "    }\n",
              "\n",
              "    .dataframe thead th {\n",
              "        text-align: right;\n",
              "    }\n",
              "</style>\n",
              "<table border=\"1\" class=\"dataframe\">\n",
              "  <thead>\n",
              "    <tr style=\"text-align: right;\">\n",
              "      <th></th>\n",
              "      <th>moy</th>\n",
              "      <th>age</th>\n",
              "      <th>taille</th>\n",
              "      <th>poid</th>\n",
              "    </tr>\n",
              "  </thead>\n",
              "  <tbody>\n",
              "    <tr>\n",
              "      <th>enfant1</th>\n",
              "      <td>14.0</td>\n",
              "      <td>13.0</td>\n",
              "      <td>1.50</td>\n",
              "      <td>45.0</td>\n",
              "    </tr>\n",
              "    <tr>\n",
              "      <th>enfant2</th>\n",
              "      <td>16.0</td>\n",
              "      <td>16.0</td>\n",
              "      <td>1.60</td>\n",
              "      <td>50.0</td>\n",
              "    </tr>\n",
              "    <tr>\n",
              "      <th>enfant3</th>\n",
              "      <td>15.0</td>\n",
              "      <td>13.0</td>\n",
              "      <td>1.65</td>\n",
              "      <td>50.0</td>\n",
              "    </tr>\n",
              "    <tr>\n",
              "      <th>enfant4</th>\n",
              "      <td>9.0</td>\n",
              "      <td>15.0</td>\n",
              "      <td>1.75</td>\n",
              "      <td>60.0</td>\n",
              "    </tr>\n",
              "    <tr>\n",
              "      <th>enfant5</th>\n",
              "      <td>10.0</td>\n",
              "      <td>14.0</td>\n",
              "      <td>1.70</td>\n",
              "      <td>60.0</td>\n",
              "    </tr>\n",
              "    <tr>\n",
              "      <th>enfant6</th>\n",
              "      <td>7.0</td>\n",
              "      <td>14.0</td>\n",
              "      <td>1.70</td>\n",
              "      <td>60.0</td>\n",
              "    </tr>\n",
              "    <tr>\n",
              "      <th>enfant7</th>\n",
              "      <td>8.0</td>\n",
              "      <td>14.0</td>\n",
              "      <td>1.60</td>\n",
              "      <td>70.0</td>\n",
              "    </tr>\n",
              "    <tr>\n",
              "      <th>enfant8</th>\n",
              "      <td>13.0</td>\n",
              "      <td>13.0</td>\n",
              "      <td>1.60</td>\n",
              "      <td>65.0</td>\n",
              "    </tr>\n",
              "    <tr>\n",
              "      <th>enfant9</th>\n",
              "      <td>17.0</td>\n",
              "      <td>15.0</td>\n",
              "      <td>1.55</td>\n",
              "      <td>60.0</td>\n",
              "    </tr>\n",
              "    <tr>\n",
              "      <th>enfant10</th>\n",
              "      <td>11.0</td>\n",
              "      <td>14.0</td>\n",
              "      <td>1.70</td>\n",
              "      <td>65.0</td>\n",
              "    </tr>\n",
              "  </tbody>\n",
              "</table>\n",
              "</div>"
            ],
            "text/plain": [
              "           moy   age  taille  poid\n",
              "enfant1   14.0  13.0    1.50  45.0\n",
              "enfant2   16.0  16.0    1.60  50.0\n",
              "enfant3   15.0  13.0    1.65  50.0\n",
              "enfant4    9.0  15.0    1.75  60.0\n",
              "enfant5   10.0  14.0    1.70  60.0\n",
              "enfant6    7.0  14.0    1.70  60.0\n",
              "enfant7    8.0  14.0    1.60  70.0\n",
              "enfant8   13.0  13.0    1.60  65.0\n",
              "enfant9   17.0  15.0    1.55  60.0\n",
              "enfant10  11.0  14.0    1.70  65.0"
            ]
          },
          "execution_count": 111,
          "metadata": {},
          "output_type": "execute_result"
        }
      ],
      "source": [
        "X_frame=pd.DataFrame(X,columns=['moy','age','taille','poid'],index=ind)\n",
        "X_frame"
      ]
    },
    {
      "cell_type": "code",
      "execution_count": 112,
      "metadata": {},
      "outputs": [
        {
          "data": {
            "text/html": [
              "<div>\n",
              "<style scoped>\n",
              "    .dataframe tbody tr th:only-of-type {\n",
              "        vertical-align: middle;\n",
              "    }\n",
              "\n",
              "    .dataframe tbody tr th {\n",
              "        vertical-align: top;\n",
              "    }\n",
              "\n",
              "    .dataframe thead th {\n",
              "        text-align: right;\n",
              "    }\n",
              "</style>\n",
              "<table border=\"1\" class=\"dataframe\">\n",
              "  <thead>\n",
              "    <tr style=\"text-align: right;\">\n",
              "      <th></th>\n",
              "      <th>moy</th>\n",
              "      <th>age</th>\n",
              "      <th>taille</th>\n",
              "      <th>poid</th>\n",
              "    </tr>\n",
              "  </thead>\n",
              "  <tbody>\n",
              "    <tr>\n",
              "      <th>enfant1</th>\n",
              "      <td>14</td>\n",
              "      <td>13</td>\n",
              "      <td>150.0</td>\n",
              "      <td>45</td>\n",
              "    </tr>\n",
              "    <tr>\n",
              "      <th>enfant2</th>\n",
              "      <td>16</td>\n",
              "      <td>16</td>\n",
              "      <td>160.0</td>\n",
              "      <td>50</td>\n",
              "    </tr>\n",
              "    <tr>\n",
              "      <th>enfant3</th>\n",
              "      <td>15</td>\n",
              "      <td>13</td>\n",
              "      <td>165.0</td>\n",
              "      <td>50</td>\n",
              "    </tr>\n",
              "    <tr>\n",
              "      <th>enfant4</th>\n",
              "      <td>9</td>\n",
              "      <td>15</td>\n",
              "      <td>175.0</td>\n",
              "      <td>60</td>\n",
              "    </tr>\n",
              "    <tr>\n",
              "      <th>enfant5</th>\n",
              "      <td>10</td>\n",
              "      <td>14</td>\n",
              "      <td>170.0</td>\n",
              "      <td>60</td>\n",
              "    </tr>\n",
              "    <tr>\n",
              "      <th>enfant6</th>\n",
              "      <td>7</td>\n",
              "      <td>14</td>\n",
              "      <td>170.0</td>\n",
              "      <td>60</td>\n",
              "    </tr>\n",
              "    <tr>\n",
              "      <th>enfant7</th>\n",
              "      <td>8</td>\n",
              "      <td>14</td>\n",
              "      <td>160.0</td>\n",
              "      <td>70</td>\n",
              "    </tr>\n",
              "    <tr>\n",
              "      <th>enfant8</th>\n",
              "      <td>13</td>\n",
              "      <td>13</td>\n",
              "      <td>160.0</td>\n",
              "      <td>65</td>\n",
              "    </tr>\n",
              "    <tr>\n",
              "      <th>enfant9</th>\n",
              "      <td>17</td>\n",
              "      <td>15</td>\n",
              "      <td>155.0</td>\n",
              "      <td>60</td>\n",
              "    </tr>\n",
              "    <tr>\n",
              "      <th>enfant10</th>\n",
              "      <td>11</td>\n",
              "      <td>14</td>\n",
              "      <td>170.0</td>\n",
              "      <td>65</td>\n",
              "    </tr>\n",
              "  </tbody>\n",
              "</table>\n",
              "</div>"
            ],
            "text/plain": [
              "          moy  age  taille  poid\n",
              "enfant1    14   13   150.0    45\n",
              "enfant2    16   16   160.0    50\n",
              "enfant3    15   13   165.0    50\n",
              "enfant4     9   15   175.0    60\n",
              "enfant5    10   14   170.0    60\n",
              "enfant6     7   14   170.0    60\n",
              "enfant7     8   14   160.0    70\n",
              "enfant8    13   13   160.0    65\n",
              "enfant9    17   15   155.0    60\n",
              "enfant10   11   14   170.0    65"
            ]
          },
          "execution_count": 112,
          "metadata": {},
          "output_type": "execute_result"
        }
      ],
      "source": [
        "X_nomr=pd.DataFrame(X1,columns=['moy','age','taille','poid'],index=ind)\n",
        "X_nomr.taille=X_nomr.taille*100\n",
        "X_nomr"
      ]
    },
    {
      "cell_type": "code",
      "execution_count": 113,
      "metadata": {},
      "outputs": [
        {
          "data": {
            "text/html": [
              "<div>\n",
              "<style scoped>\n",
              "    .dataframe tbody tr th:only-of-type {\n",
              "        vertical-align: middle;\n",
              "    }\n",
              "\n",
              "    .dataframe tbody tr th {\n",
              "        vertical-align: top;\n",
              "    }\n",
              "\n",
              "    .dataframe thead th {\n",
              "        text-align: right;\n",
              "    }\n",
              "</style>\n",
              "<table border=\"1\" class=\"dataframe\">\n",
              "  <thead>\n",
              "    <tr style=\"text-align: right;\">\n",
              "      <th></th>\n",
              "      <th>moy</th>\n",
              "      <th>age</th>\n",
              "      <th>taille</th>\n",
              "      <th>poid</th>\n",
              "    </tr>\n",
              "  </thead>\n",
              "  <tbody>\n",
              "    <tr>\n",
              "      <th>enfant1</th>\n",
              "      <td>14.0</td>\n",
              "      <td>13.0</td>\n",
              "      <td>1.50</td>\n",
              "      <td>45.0</td>\n",
              "    </tr>\n",
              "    <tr>\n",
              "      <th>enfant2</th>\n",
              "      <td>16.0</td>\n",
              "      <td>16.0</td>\n",
              "      <td>1.60</td>\n",
              "      <td>50.0</td>\n",
              "    </tr>\n",
              "    <tr>\n",
              "      <th>enfant3</th>\n",
              "      <td>15.0</td>\n",
              "      <td>13.0</td>\n",
              "      <td>1.65</td>\n",
              "      <td>50.0</td>\n",
              "    </tr>\n",
              "    <tr>\n",
              "      <th>enfant4</th>\n",
              "      <td>9.0</td>\n",
              "      <td>15.0</td>\n",
              "      <td>1.75</td>\n",
              "      <td>60.0</td>\n",
              "    </tr>\n",
              "    <tr>\n",
              "      <th>enfant5</th>\n",
              "      <td>10.0</td>\n",
              "      <td>14.0</td>\n",
              "      <td>1.70</td>\n",
              "      <td>60.0</td>\n",
              "    </tr>\n",
              "    <tr>\n",
              "      <th>enfant6</th>\n",
              "      <td>7.0</td>\n",
              "      <td>14.0</td>\n",
              "      <td>1.70</td>\n",
              "      <td>60.0</td>\n",
              "    </tr>\n",
              "    <tr>\n",
              "      <th>enfant7</th>\n",
              "      <td>8.0</td>\n",
              "      <td>14.0</td>\n",
              "      <td>1.60</td>\n",
              "      <td>70.0</td>\n",
              "    </tr>\n",
              "    <tr>\n",
              "      <th>enfant8</th>\n",
              "      <td>13.0</td>\n",
              "      <td>13.0</td>\n",
              "      <td>1.60</td>\n",
              "      <td>65.0</td>\n",
              "    </tr>\n",
              "    <tr>\n",
              "      <th>enfant9</th>\n",
              "      <td>17.0</td>\n",
              "      <td>15.0</td>\n",
              "      <td>1.55</td>\n",
              "      <td>60.0</td>\n",
              "    </tr>\n",
              "    <tr>\n",
              "      <th>enfant10</th>\n",
              "      <td>11.0</td>\n",
              "      <td>14.0</td>\n",
              "      <td>1.70</td>\n",
              "      <td>65.0</td>\n",
              "    </tr>\n",
              "  </tbody>\n",
              "</table>\n",
              "</div>"
            ],
            "text/plain": [
              "           moy   age  taille  poid\n",
              "enfant1   14.0  13.0    1.50  45.0\n",
              "enfant2   16.0  16.0    1.60  50.0\n",
              "enfant3   15.0  13.0    1.65  50.0\n",
              "enfant4    9.0  15.0    1.75  60.0\n",
              "enfant5   10.0  14.0    1.70  60.0\n",
              "enfant6    7.0  14.0    1.70  60.0\n",
              "enfant7    8.0  14.0    1.60  70.0\n",
              "enfant8   13.0  13.0    1.60  65.0\n",
              "enfant9   17.0  15.0    1.55  60.0\n",
              "enfant10  11.0  14.0    1.70  65.0"
            ]
          },
          "execution_count": 113,
          "metadata": {},
          "output_type": "execute_result"
        }
      ],
      "source": [
        "X_frame"
      ]
    },
    {
      "cell_type": "code",
      "execution_count": 114,
      "metadata": {
        "id": "gxFjdgRlW_-T"
      },
      "outputs": [],
      "source": [
        "X_transp=X.T"
      ]
    },
    {
      "cell_type": "code",
      "execution_count": 115,
      "metadata": {
        "colab": {
          "base_uri": "https://localhost:8080/"
        },
        "id": "yVLcuKS2W7Lt",
        "outputId": "3b5cd17c-b6ef-498a-86ff-4acfd9141f3c"
      },
      "outputs": [
        {
          "name": "stdout",
          "output_type": "stream",
          "text": [
            "[[14.   13.    1.5  45.  ]\n",
            " [16.   16.    1.6  50.  ]\n",
            " [15.   13.    1.65 50.  ]\n",
            " [ 9.   15.    1.75 60.  ]\n",
            " [10.   14.    1.7  60.  ]\n",
            " [ 7.   14.    1.7  60.  ]\n",
            " [ 8.   14.    1.6  70.  ]\n",
            " [13.   13.    1.6  65.  ]\n",
            " [17.   15.    1.55 60.  ]\n",
            " [11.   14.    1.7  65.  ]]\n",
            "---------------------------\n",
            "[[14.   16.   15.    9.   10.    7.    8.   13.   17.   11.  ]\n",
            " [13.   16.   13.   15.   14.   14.   14.   13.   15.   14.  ]\n",
            " [ 1.5   1.6   1.65  1.75  1.7   1.7   1.6   1.6   1.55  1.7 ]\n",
            " [45.   50.   50.   60.   60.   60.   70.   65.   60.   65.  ]]\n"
          ]
        }
      ],
      "source": [
        "print(X)\n",
        "print(\"---------------------------\")\n",
        "print(X_transp)"
      ]
    },
    {
      "cell_type": "markdown",
      "metadata": {
        "id": "6uU9xSyTXV-H"
      },
      "source": [
        "# **2-**"
      ]
    },
    {
      "cell_type": "code",
      "execution_count": 116,
      "metadata": {
        "colab": {
          "base_uri": "https://localhost:8080/"
        },
        "id": "6xSXLa1AXg1t",
        "outputId": "92913c7f-70ac-41cb-e733-aac5a9bbe5c5"
      },
      "outputs": [
        {
          "name": "stdout",
          "output_type": "stream",
          "text": [
            "-----individu 0 ------\n",
            "moy       14.0\n",
            "age       13.0\n",
            "taille     1.5\n",
            "poid      45.0\n",
            "Name: enfant1, dtype: float64\n",
            "-----individu 1 ------\n",
            "moy       16.0\n",
            "age       16.0\n",
            "taille     1.6\n",
            "poid      50.0\n",
            "Name: enfant2, dtype: float64\n",
            "-----individu 2 ------\n",
            "moy       15.00\n",
            "age       13.00\n",
            "taille     1.65\n",
            "poid      50.00\n",
            "Name: enfant3, dtype: float64\n",
            "-----individu 3 ------\n",
            "moy        9.00\n",
            "age       15.00\n",
            "taille     1.75\n",
            "poid      60.00\n",
            "Name: enfant4, dtype: float64\n",
            "-----individu 4 ------\n",
            "moy       10.0\n",
            "age       14.0\n",
            "taille     1.7\n",
            "poid      60.0\n",
            "Name: enfant5, dtype: float64\n",
            "-----individu 5 ------\n",
            "moy        7.0\n",
            "age       14.0\n",
            "taille     1.7\n",
            "poid      60.0\n",
            "Name: enfant6, dtype: float64\n",
            "-----individu 6 ------\n",
            "moy        8.0\n",
            "age       14.0\n",
            "taille     1.6\n",
            "poid      70.0\n",
            "Name: enfant7, dtype: float64\n",
            "-----individu 7 ------\n",
            "moy       13.0\n",
            "age       13.0\n",
            "taille     1.6\n",
            "poid      65.0\n",
            "Name: enfant8, dtype: float64\n",
            "-----individu 8 ------\n",
            "moy       17.00\n",
            "age       15.00\n",
            "taille     1.55\n",
            "poid      60.00\n",
            "Name: enfant9, dtype: float64\n",
            "-----individu 9 ------\n",
            "moy       11.0\n",
            "age       14.0\n",
            "taille     1.7\n",
            "poid      65.0\n",
            "Name: enfant10, dtype: float64\n"
          ]
        }
      ],
      "source": [
        "for i in range(10):\n",
        "  print(\"-----individu\",i,\"------\")\n",
        "  print(X_frame.iloc[i])"
      ]
    },
    {
      "cell_type": "markdown",
      "metadata": {
        "id": "aiUyYwq7YnzT"
      },
      "source": [
        "# **3-**"
      ]
    },
    {
      "cell_type": "code",
      "execution_count": 117,
      "metadata": {
        "colab": {
          "base_uri": "https://localhost:8080/"
        },
        "id": "_WkpOO2gYp8R",
        "outputId": "2ff63303-e715-44dd-beda-32ee75872a26"
      },
      "outputs": [
        {
          "name": "stdout",
          "output_type": "stream",
          "text": [
            "-----columns  moy ------\n",
            "enfant1     14.0\n",
            "enfant2     16.0\n",
            "enfant3     15.0\n",
            "enfant4      9.0\n",
            "enfant5     10.0\n",
            "enfant6      7.0\n",
            "enfant7      8.0\n",
            "enfant8     13.0\n",
            "enfant9     17.0\n",
            "enfant10    11.0\n",
            "Name: moy, dtype: float64\n",
            "-----columns  age ------\n",
            "enfant1     13.0\n",
            "enfant2     16.0\n",
            "enfant3     13.0\n",
            "enfant4     15.0\n",
            "enfant5     14.0\n",
            "enfant6     14.0\n",
            "enfant7     14.0\n",
            "enfant8     13.0\n",
            "enfant9     15.0\n",
            "enfant10    14.0\n",
            "Name: age, dtype: float64\n",
            "-----columns  taille ------\n",
            "enfant1     1.50\n",
            "enfant2     1.60\n",
            "enfant3     1.65\n",
            "enfant4     1.75\n",
            "enfant5     1.70\n",
            "enfant6     1.70\n",
            "enfant7     1.60\n",
            "enfant8     1.60\n",
            "enfant9     1.55\n",
            "enfant10    1.70\n",
            "Name: taille, dtype: float64\n",
            "-----columns  poid ------\n",
            "enfant1     45.0\n",
            "enfant2     50.0\n",
            "enfant3     50.0\n",
            "enfant4     60.0\n",
            "enfant5     60.0\n",
            "enfant6     60.0\n",
            "enfant7     70.0\n",
            "enfant8     65.0\n",
            "enfant9     60.0\n",
            "enfant10    65.0\n",
            "Name: poid, dtype: float64\n"
          ]
        }
      ],
      "source": [
        "for i in X_frame.columns:\n",
        "  print(\"-----columns \",i,\"------\")\n",
        "  print(X_frame[i])"
      ]
    },
    {
      "cell_type": "markdown",
      "metadata": {
        "id": "P1wYwuyGZLUR"
      },
      "source": [
        "# **4-**"
      ]
    },
    {
      "cell_type": "code",
      "execution_count": 118,
      "metadata": {
        "colab": {
          "base_uri": "https://localhost:8080/"
        },
        "id": "Ge7moc5mZJSw",
        "outputId": "918a56ca-b771-4849-f245-8ce90ee2585f"
      },
      "outputs": [
        {
          "name": "stdout",
          "output_type": "stream",
          "text": [
            "moy       10.0\n",
            "age       14.0\n",
            "taille     1.7\n",
            "poid      60.0\n",
            "Name: enfant5, dtype: float64\n",
            "---------------------------\n",
            "moy        7.0\n",
            "age       14.0\n",
            "taille     1.7\n",
            "poid      60.0\n",
            "Name: enfant6, dtype: float64\n",
            "---------------------------\n",
            "moy        8.0\n",
            "age       14.0\n",
            "taille     1.6\n",
            "poid      70.0\n",
            "Name: enfant7, dtype: float64\n"
          ]
        }
      ],
      "source": [
        "print(X_frame.iloc[4])\n",
        "print(\"---------------------------\")\n",
        "print(X_frame.iloc[5])\n",
        "print(\"---------------------------\")\n",
        "print(X_frame.iloc[6])"
      ]
    },
    {
      "cell_type": "markdown",
      "metadata": {
        "id": "xlqdfeIiZdve"
      },
      "source": [
        "# **5-**"
      ]
    },
    {
      "cell_type": "code",
      "execution_count": 119,
      "metadata": {
        "id": "xG7YFn9WZg0Z"
      },
      "outputs": [],
      "source": [
        "mean=round(np.mean(X_frame),3)\n",
        "var = round(np.var(X_frame),3)\n",
        "std = round(np.std(X_frame)*(X_frame.shape[0]-1)/X_frame.shape[0],3)"
      ]
    },
    {
      "cell_type": "code",
      "execution_count": 120,
      "metadata": {
        "colab": {
          "base_uri": "https://localhost:8080/",
          "height": 143
        },
        "id": "RdJsWEG6asbB",
        "outputId": "72e211f7-ba77-43fd-c13d-f453b28abbbe"
      },
      "outputs": [
        {
          "data": {
            "text/html": [
              "<div>\n",
              "<style scoped>\n",
              "    .dataframe tbody tr th:only-of-type {\n",
              "        vertical-align: middle;\n",
              "    }\n",
              "\n",
              "    .dataframe tbody tr th {\n",
              "        vertical-align: top;\n",
              "    }\n",
              "\n",
              "    .dataframe thead th {\n",
              "        text-align: right;\n",
              "    }\n",
              "</style>\n",
              "<table border=\"1\" class=\"dataframe\">\n",
              "  <thead>\n",
              "    <tr style=\"text-align: right;\">\n",
              "      <th></th>\n",
              "      <th>moy</th>\n",
              "      <th>age</th>\n",
              "      <th>taille</th>\n",
              "      <th>poid</th>\n",
              "    </tr>\n",
              "  </thead>\n",
              "  <tbody>\n",
              "    <tr>\n",
              "      <th>mean</th>\n",
              "      <td>12.000</td>\n",
              "      <td>14.100</td>\n",
              "      <td>1.635</td>\n",
              "      <td>58.50</td>\n",
              "    </tr>\n",
              "    <tr>\n",
              "      <th>var</th>\n",
              "      <td>11.000</td>\n",
              "      <td>0.890</td>\n",
              "      <td>0.006</td>\n",
              "      <td>55.25</td>\n",
              "    </tr>\n",
              "    <tr>\n",
              "      <th>std</th>\n",
              "      <td>2.985</td>\n",
              "      <td>0.849</td>\n",
              "      <td>0.067</td>\n",
              "      <td>6.69</td>\n",
              "    </tr>\n",
              "  </tbody>\n",
              "</table>\n",
              "</div>"
            ],
            "text/plain": [
              "         moy     age  taille   poid\n",
              "mean  12.000  14.100   1.635  58.50\n",
              "var   11.000   0.890   0.006  55.25\n",
              "std    2.985   0.849   0.067   6.69"
            ]
          },
          "execution_count": 120,
          "metadata": {},
          "output_type": "execute_result"
        }
      ],
      "source": [
        "Xj=pd.DataFrame(np.array([mean,var,std]),index=[\"mean\",\"var\",\"std\"],columns=X_frame.columns)\n",
        "Xj"
      ]
    },
    {
      "cell_type": "markdown",
      "metadata": {
        "id": "biANHqr1b969"
      },
      "source": [
        "# **6-**"
      ]
    },
    {
      "cell_type": "code",
      "execution_count": 121,
      "metadata": {
        "id": "UNK8EyoYbg13"
      },
      "outputs": [],
      "source": [
        "gravity_ind=np.mean(X_frame,axis=1)\n",
        "gravity_col=np.mean(X_frame,axis=0)"
      ]
    },
    {
      "cell_type": "code",
      "execution_count": 122,
      "metadata": {
        "colab": {
          "base_uri": "https://localhost:8080/"
        },
        "id": "xt43Ops5gr5g",
        "outputId": "f2edf16a-589a-4fa3-a104-653bdbff187c"
      },
      "outputs": [
        {
          "name": "stdout",
          "output_type": "stream",
          "text": [
            "enfant1     18.3750\n",
            "enfant2     20.9000\n",
            "enfant3     19.9125\n",
            "enfant4     21.4375\n",
            "enfant5     21.4250\n",
            "enfant6     20.6750\n",
            "enfant7     23.4000\n",
            "enfant8     23.1500\n",
            "enfant9     23.3875\n",
            "enfant10    22.9250\n",
            "dtype: float64\n",
            "---------------------------\n",
            "moy       12.000\n",
            "age       14.100\n",
            "taille     1.635\n",
            "poid      58.500\n",
            "dtype: float64\n"
          ]
        }
      ],
      "source": [
        "print(gravity_ind)\n",
        "print(\"---------------------------\")\n",
        "print(gravity_col)"
      ]
    },
    {
      "cell_type": "markdown",
      "metadata": {
        "id": "lsEQsyJQiNyC"
      },
      "source": [
        "# **7-**"
      ]
    },
    {
      "cell_type": "code",
      "execution_count": 123,
      "metadata": {
        "colab": {
          "base_uri": "https://localhost:8080/"
        },
        "id": "u1SGBg_hhLQQ",
        "outputId": "158e4dd3-f46c-4072-e2d9-484038088ad5"
      },
      "outputs": [
        {
          "data": {
            "text/html": [
              "<div>\n",
              "<style scoped>\n",
              "    .dataframe tbody tr th:only-of-type {\n",
              "        vertical-align: middle;\n",
              "    }\n",
              "\n",
              "    .dataframe tbody tr th {\n",
              "        vertical-align: top;\n",
              "    }\n",
              "\n",
              "    .dataframe thead th {\n",
              "        text-align: right;\n",
              "    }\n",
              "</style>\n",
              "<table border=\"1\" class=\"dataframe\">\n",
              "  <thead>\n",
              "    <tr style=\"text-align: right;\">\n",
              "      <th></th>\n",
              "      <th>moy</th>\n",
              "      <th>age</th>\n",
              "      <th>taille</th>\n",
              "      <th>poid</th>\n",
              "    </tr>\n",
              "  </thead>\n",
              "  <tbody>\n",
              "    <tr>\n",
              "      <th>moy</th>\n",
              "      <td>12.222222</td>\n",
              "      <td>0.444444</td>\n",
              "      <td>-0.172222</td>\n",
              "      <td>-15.555556</td>\n",
              "    </tr>\n",
              "    <tr>\n",
              "      <th>age</th>\n",
              "      <td>0.444444</td>\n",
              "      <td>0.988889</td>\n",
              "      <td>0.012778</td>\n",
              "      <td>0.166667</td>\n",
              "    </tr>\n",
              "    <tr>\n",
              "      <th>taille</th>\n",
              "      <td>-0.172222</td>\n",
              "      <td>0.012778</td>\n",
              "      <td>0.006139</td>\n",
              "      <td>0.225000</td>\n",
              "    </tr>\n",
              "    <tr>\n",
              "      <th>poid</th>\n",
              "      <td>-15.555556</td>\n",
              "      <td>0.166667</td>\n",
              "      <td>0.225000</td>\n",
              "      <td>61.388889</td>\n",
              "    </tr>\n",
              "  </tbody>\n",
              "</table>\n",
              "</div>"
            ],
            "text/plain": [
              "              moy       age    taille       poid\n",
              "moy     12.222222  0.444444 -0.172222 -15.555556\n",
              "age      0.444444  0.988889  0.012778   0.166667\n",
              "taille  -0.172222  0.012778  0.006139   0.225000\n",
              "poid   -15.555556  0.166667  0.225000  61.388889"
            ]
          },
          "execution_count": 123,
          "metadata": {},
          "output_type": "execute_result"
        }
      ],
      "source": [
        "V=X_frame.cov()\n",
        "V"
      ]
    },
    {
      "cell_type": "code",
      "execution_count": 124,
      "metadata": {},
      "outputs": [
        {
          "data": {
            "text/plain": [
              "<AxesSubplot:>"
            ]
          },
          "execution_count": 124,
          "metadata": {},
          "output_type": "execute_result"
        },
        {
          "data": {
            "image/png": "[encoded data removed]",
            "text/plain": [
              "<Figure size 432x288 with 2 Axes>"
            ]
          },
          "metadata": {
            "needs_background": "light"
          },
          "output_type": "display_data"
        }
      ],
      "source": [
        "import seaborn as sns\n",
        "sns.heatmap(X_frame.corr(),annot=True)"
      ]
    },
    {
      "cell_type": "markdown",
      "metadata": {
        "id": "6b18ucb8l0nf"
      },
      "source": [
        "# **8-**"
      ]
    },
    {
      "cell_type": "code",
      "execution_count": 125,
      "metadata": {
        "colab": {
          "base_uri": "https://localhost:8080/",
          "height": 175
        },
        "id": "vllqkUXCl3LG",
        "outputId": "b83e11ac-46bd-482c-ee7d-883de1947e4b"
      },
      "outputs": [
        {
          "data": {
            "text/html": [
              "<div>\n",
              "<style scoped>\n",
              "    .dataframe tbody tr th:only-of-type {\n",
              "        vertical-align: middle;\n",
              "    }\n",
              "\n",
              "    .dataframe tbody tr th {\n",
              "        vertical-align: top;\n",
              "    }\n",
              "\n",
              "    .dataframe thead th {\n",
              "        text-align: right;\n",
              "    }\n",
              "</style>\n",
              "<table border=\"1\" class=\"dataframe\">\n",
              "  <thead>\n",
              "    <tr style=\"text-align: right;\">\n",
              "      <th></th>\n",
              "      <th>moy</th>\n",
              "      <th>age</th>\n",
              "      <th>taille</th>\n",
              "      <th>poid</th>\n",
              "    </tr>\n",
              "  </thead>\n",
              "  <tbody>\n",
              "    <tr>\n",
              "      <th>moy</th>\n",
              "      <td>1.000000</td>\n",
              "      <td>0.127841</td>\n",
              "      <td>-0.628737</td>\n",
              "      <td>-0.567892</td>\n",
              "    </tr>\n",
              "    <tr>\n",
              "      <th>age</th>\n",
              "      <td>0.127841</td>\n",
              "      <td>1.000000</td>\n",
              "      <td>0.163997</td>\n",
              "      <td>0.021391</td>\n",
              "    </tr>\n",
              "    <tr>\n",
              "      <th>taille</th>\n",
              "      <td>-0.628737</td>\n",
              "      <td>0.163997</td>\n",
              "      <td>1.000000</td>\n",
              "      <td>0.366516</td>\n",
              "    </tr>\n",
              "    <tr>\n",
              "      <th>poid</th>\n",
              "      <td>-0.567892</td>\n",
              "      <td>0.021391</td>\n",
              "      <td>0.366516</td>\n",
              "      <td>1.000000</td>\n",
              "    </tr>\n",
              "  </tbody>\n",
              "</table>\n",
              "</div>"
            ],
            "text/plain": [
              "             moy       age    taille      poid\n",
              "moy     1.000000  0.127841 -0.628737 -0.567892\n",
              "age     0.127841  1.000000  0.163997  0.021391\n",
              "taille -0.628737  0.163997  1.000000  0.366516\n",
              "poid   -0.567892  0.021391  0.366516  1.000000"
            ]
          },
          "execution_count": 125,
          "metadata": {},
          "output_type": "execute_result"
        }
      ],
      "source": [
        "X_frame.corr()"
      ]
    },
    {
      "cell_type": "markdown",
      "metadata": {
        "id": "yYFaoO7umoVP"
      },
      "source": [
        "\n",
        "\n",
        "*   (Moyenne, Taille) : fort correlation negative (les deux variable se deplace d'une maniere oppose)\n",
        "*   (Age, Poids) : faible corelation ( pas de relation signifiante entre les variable)\n",
        "\n"
      ]
    },
    {
      "cell_type": "markdown",
      "metadata": {
        "id": "zeKS_dvsnyzX"
      },
      "source": [
        "# **9-**"
      ]
    },
    {
      "cell_type": "code",
      "execution_count": 126,
      "metadata": {
        "colab": {
          "base_uri": "https://localhost:8080/"
        },
        "id": "b-N2JzEBpi_y",
        "outputId": "7943e476-6169-4e31-93c4-46df1df43995"
      },
      "outputs": [
        {
          "data": {
            "text/plain": [
              "(10, 4)"
            ]
          },
          "execution_count": 126,
          "metadata": {},
          "output_type": "execute_result"
        }
      ],
      "source": [
        "X.shape"
      ]
    },
    {
      "cell_type": "code",
      "execution_count": 127,
      "metadata": {
        "id": "0nj27t6fq02O"
      },
      "outputs": [],
      "source": [
        "X_re=np.append(X,np.ones(shape=(10,6)),axis=1)"
      ]
    },
    {
      "cell_type": "code",
      "execution_count": 128,
      "metadata": {
        "colab": {
          "base_uri": "https://localhost:8080/"
        },
        "id": "d64hqaNeE0BB",
        "outputId": "fa7a73f0-5b64-454f-cbe4-9123d73c353f"
      },
      "outputs": [
        {
          "name": "stdout",
          "output_type": "stream",
          "text": [
            "Valeurs propres :  [6.58981378e+01 7.74852857e+00 9.56136954e-01 3.33558636e-03]\n",
            "Vecteurs propres associés :  [[-2.78357092e-01 -9.58046850e-01 -6.66048279e-02  1.50784688e-02]\n",
            " [ 5.61016053e-04 -6.98127525e-02  9.97363507e-01 -1.97964425e-02]\n",
            " [ 4.00734543e-03  1.31263562e-02  2.07591818e-02  9.99690300e-01]\n",
            " [ 9.60469133e-01 -2.77669070e-01 -1.99721695e-02  2.10522627e-04]]\n"
          ]
        }
      ],
      "source": [
        "# Calculer les valeurs propres et vecteurs propres associés\n",
        "eigenvalues, eigenvectors = np.linalg.eig(V)\n",
        "\n",
        "# Afficher les valeurs propres\n",
        "print(\"Valeurs propres : \", eigenvalues)\n",
        "\n",
        "# Afficher les vecteurs propr]hes associés\n",
        "print(\"Vecteurs propres associés : \", eigenvectors)"
      ]
    },
    {
      "cell_type": "markdown",
      "metadata": {
        "id": "ihGUAPLZ7pnO"
      },
      "source": [
        "# **10-**"
      ]
    },
    {
      "cell_type": "code",
      "execution_count": 129,
      "metadata": {
        "id": "JxFfxuy47lnO"
      },
      "outputs": [],
      "source": [
        "def ver(mat,vecp,valp):\n",
        "  x=np.dot(mat,vecp)\n",
        "  y=vecp*valp\n",
        "  return np.allclose(x,y)\n"
      ]
    },
    {
      "cell_type": "code",
      "execution_count": 130,
      "metadata": {},
      "outputs": [],
      "source": [
        "eigenvectors=np.array(eigenvectors)"
      ]
    },
    {
      "cell_type": "code",
      "execution_count": 131,
      "metadata": {
        "colab": {
          "base_uri": "https://localhost:8080/"
        },
        "id": "AbjWSiLsCHq4",
        "outputId": "8d670652-a581-4b8e-c757-7cc426d01342"
      },
      "outputs": [
        {
          "data": {
            "text/plain": [
              "True"
            ]
          },
          "execution_count": 131,
          "metadata": {},
          "output_type": "execute_result"
        }
      ],
      "source": [
        "ver(V,eigenvectors[:,1],eigenvalues[1])"
      ]
    },
    {
      "cell_type": "markdown",
      "metadata": {
        "id": "HXCA8GyuFw8q"
      },
      "source": [
        "# **GRAPHISME**"
      ]
    },
    {
      "cell_type": "code",
      "execution_count": 132,
      "metadata": {
        "colab": {
          "base_uri": "https://localhost:8080/",
          "height": 554
        },
        "id": "GNiSSg3hGAut",
        "outputId": "6922e15d-4edc-413f-e1c5-150016fd13f3"
      },
      "outputs": [
        {
          "data": {
            "image/png": "[encoded data removed]",
            "text/plain": [
              "<Figure size 864x576 with 2 Axes>"
            ]
          },
          "metadata": {
            "needs_background": "light"
          },
          "output_type": "display_data"
        }
      ],
      "source": [
        "fig, (ax1, ax2) = plt.subplots(1, 2, figsize=(12, 8))\n",
        "ax1.scatter(X_frame.moy, X_frame.taille)\n",
        "ax1.set_xlabel('Moyenne')\n",
        "ax1.set_ylabel('Taille')\n",
        "ax1.set_title(\"taille par  a la moyenne\")\n",
        "rapport\n",
        "ax2.scatter(X_frame.age, X_frame.poid,c=\"r\")\n",
        "ax2.set_xlabel('Age')\n",
        "ax2.set_ylabel('Poids')\n",
        "ax2.set_title(\"poids  par rapport a l'age\")\n",
        "\n",
        "fig.suptitle('Nuage des individus')\n",
        "plt.show()"
      ]
    },
    {
      "attachments": {},
      "cell_type": "markdown",
      "metadata": {},
      "source": [
        "4 5 / 5 6\n"
      ]
    },
    {
      "cell_type": "code",
      "execution_count": 133,
      "metadata": {},
      "outputs": [],
      "source": [
        "def ecludian(x,y):\n",
        "   return  np.sqrt(np.sum(np.square(x-y)))\n",
        "\n"
      ]
    },
    {
      "cell_type": "code",
      "execution_count": 134,
      "metadata": {},
      "outputs": [
        {
          "data": {
            "text/plain": [
              "(1.4150971698084907, 3.0, 2.2366269246345043)"
            ]
          },
          "execution_count": 134,
          "metadata": {},
          "output_type": "execute_result"
        }
      ],
      "source": [
        "ecludian(X_frame.iloc[3],X_frame.iloc[4]),ecludian(X_frame.iloc[4],X_frame.iloc[5]),ecludian(X_frame.iloc[3],X_frame.iloc[5])"
      ]
    },
    {
      "cell_type": "code",
      "execution_count": 135,
      "metadata": {},
      "outputs": [
        {
          "data": {
            "text/plain": [
              "(5.196152422706632, 3.0, 5.477225575051661)"
            ]
          },
          "execution_count": 135,
          "metadata": {},
          "output_type": "execute_result"
        }
      ],
      "source": [
        "ecludian(X_nomr.iloc[3],X_nomr.iloc[4]),ecludian(X_nomr.iloc[4],X_nomr.iloc[5]),ecludian(X_nomr.iloc[3],X_nomr.iloc[5])"
      ]
    },
    {
      "cell_type": "markdown",
      "metadata": {
        "id": "_xq9DS8_IbCK"
      },
      "source": [
        "\n",
        "\n",
        "*   plus la taille diminu plus la moyenne augmente \n",
        "*  il n'y pas de relation entre l'age et le poid \n",
        "\n"
      ]
    },
    {
      "attachments": {},
      "cell_type": "markdown",
      "metadata": {},
      "source": [
        "EXO2"
      ]
    },
    {
      "cell_type": "code",
      "execution_count": 162,
      "metadata": {},
      "outputs": [],
      "source": [
        "X2=[\n",
        "    [10,10,10,8,8.04,9.14,7.46,6.58],\n",
        "    [8,8,8,8,6.95,8.14,6.55,5.76],\n",
        "    [13,13,13,8,7.58,8.14,12.74,7.71],\n",
        "    [9,9,9,8,8.81,8.77,7.11,8.84],\n",
        "    [11,11,11,8,8.33,9.26,7.81,8.47],\n",
        "    [14,14,14,8,9.96,8.10,8.84,7.04],\n",
        "    [6,6,6,8,7.24,6.13,6.08,5.25],\n",
        "    [4,4,4,19,4.26,3.10,5.39,12.50],\n",
        "    [12,12,12,8,10.84,9.13,8.15,5.56],\n",
        "    [7,7,7,8,4.82,7.26,6.42,7.91],\n",
        "    [5,5,5,8,5.68,4.74,5.73,6.89]\n",
        "]"
      ]
    },
    {
      "cell_type": "code",
      "execution_count": 163,
      "metadata": {},
      "outputs": [
        {
          "data": {
            "text/html": [
              "<div>\n",
              "<style scoped>\n",
              "    .dataframe tbody tr th:only-of-type {\n",
              "        vertical-align: middle;\n",
              "    }\n",
              "\n",
              "    .dataframe tbody tr th {\n",
              "        vertical-align: top;\n",
              "    }\n",
              "\n",
              "    .dataframe thead th {\n",
              "        text-align: right;\n",
              "    }\n",
              "</style>\n",
              "<table border=\"1\" class=\"dataframe\">\n",
              "  <thead>\n",
              "    <tr style=\"text-align: right;\">\n",
              "      <th></th>\n",
              "      <th>X1</th>\n",
              "      <th>X2</th>\n",
              "      <th>X3</th>\n",
              "      <th>X4</th>\n",
              "      <th>X5</th>\n",
              "      <th>X6</th>\n",
              "      <th>X7</th>\n",
              "      <th>X8</th>\n",
              "    </tr>\n",
              "  </thead>\n",
              "  <tbody>\n",
              "    <tr>\n",
              "      <th>0</th>\n",
              "      <td>10.0</td>\n",
              "      <td>10.0</td>\n",
              "      <td>10.0</td>\n",
              "      <td>8.0</td>\n",
              "      <td>8.04</td>\n",
              "      <td>9.14</td>\n",
              "      <td>7.46</td>\n",
              "      <td>6.58</td>\n",
              "    </tr>\n",
              "    <tr>\n",
              "      <th>1</th>\n",
              "      <td>8.0</td>\n",
              "      <td>8.0</td>\n",
              "      <td>8.0</td>\n",
              "      <td>8.0</td>\n",
              "      <td>6.95</td>\n",
              "      <td>8.14</td>\n",
              "      <td>6.55</td>\n",
              "      <td>5.76</td>\n",
              "    </tr>\n",
              "    <tr>\n",
              "      <th>2</th>\n",
              "      <td>13.0</td>\n",
              "      <td>13.0</td>\n",
              "      <td>13.0</td>\n",
              "      <td>8.0</td>\n",
              "      <td>7.58</td>\n",
              "      <td>8.14</td>\n",
              "      <td>12.74</td>\n",
              "      <td>7.71</td>\n",
              "    </tr>\n",
              "    <tr>\n",
              "      <th>3</th>\n",
              "      <td>9.0</td>\n",
              "      <td>9.0</td>\n",
              "      <td>9.0</td>\n",
              "      <td>8.0</td>\n",
              "      <td>8.81</td>\n",
              "      <td>8.77</td>\n",
              "      <td>7.11</td>\n",
              "      <td>8.84</td>\n",
              "    </tr>\n",
              "    <tr>\n",
              "      <th>4</th>\n",
              "      <td>11.0</td>\n",
              "      <td>11.0</td>\n",
              "      <td>11.0</td>\n",
              "      <td>8.0</td>\n",
              "      <td>8.33</td>\n",
              "      <td>9.26</td>\n",
              "      <td>7.81</td>\n",
              "      <td>8.47</td>\n",
              "    </tr>\n",
              "    <tr>\n",
              "      <th>5</th>\n",
              "      <td>14.0</td>\n",
              "      <td>14.0</td>\n",
              "      <td>14.0</td>\n",
              "      <td>8.0</td>\n",
              "      <td>9.96</td>\n",
              "      <td>8.10</td>\n",
              "      <td>8.84</td>\n",
              "      <td>7.04</td>\n",
              "    </tr>\n",
              "    <tr>\n",
              "      <th>6</th>\n",
              "      <td>6.0</td>\n",
              "      <td>6.0</td>\n",
              "      <td>6.0</td>\n",
              "      <td>8.0</td>\n",
              "      <td>7.24</td>\n",
              "      <td>6.13</td>\n",
              "      <td>6.08</td>\n",
              "      <td>5.25</td>\n",
              "    </tr>\n",
              "    <tr>\n",
              "      <th>7</th>\n",
              "      <td>4.0</td>\n",
              "      <td>4.0</td>\n",
              "      <td>4.0</td>\n",
              "      <td>19.0</td>\n",
              "      <td>4.26</td>\n",
              "      <td>3.10</td>\n",
              "      <td>5.39</td>\n",
              "      <td>12.50</td>\n",
              "    </tr>\n",
              "    <tr>\n",
              "      <th>8</th>\n",
              "      <td>12.0</td>\n",
              "      <td>12.0</td>\n",
              "      <td>12.0</td>\n",
              "      <td>8.0</td>\n",
              "      <td>10.84</td>\n",
              "      <td>9.13</td>\n",
              "      <td>8.15</td>\n",
              "      <td>5.56</td>\n",
              "    </tr>\n",
              "    <tr>\n",
              "      <th>9</th>\n",
              "      <td>7.0</td>\n",
              "      <td>7.0</td>\n",
              "      <td>7.0</td>\n",
              "      <td>8.0</td>\n",
              "      <td>4.82</td>\n",
              "      <td>7.26</td>\n",
              "      <td>6.42</td>\n",
              "      <td>7.91</td>\n",
              "    </tr>\n",
              "    <tr>\n",
              "      <th>10</th>\n",
              "      <td>5.0</td>\n",
              "      <td>5.0</td>\n",
              "      <td>5.0</td>\n",
              "      <td>8.0</td>\n",
              "      <td>5.68</td>\n",
              "      <td>4.74</td>\n",
              "      <td>5.73</td>\n",
              "      <td>6.89</td>\n",
              "    </tr>\n",
              "  </tbody>\n",
              "</table>\n",
              "</div>"
            ],
            "text/plain": [
              "      X1    X2    X3    X4     X5    X6     X7     X8\n",
              "0   10.0  10.0  10.0   8.0   8.04  9.14   7.46   6.58\n",
              "1    8.0   8.0   8.0   8.0   6.95  8.14   6.55   5.76\n",
              "2   13.0  13.0  13.0   8.0   7.58  8.14  12.74   7.71\n",
              "3    9.0   9.0   9.0   8.0   8.81  8.77   7.11   8.84\n",
              "4   11.0  11.0  11.0   8.0   8.33  9.26   7.81   8.47\n",
              "5   14.0  14.0  14.0   8.0   9.96  8.10   8.84   7.04\n",
              "6    6.0   6.0   6.0   8.0   7.24  6.13   6.08   5.25\n",
              "7    4.0   4.0   4.0  19.0   4.26  3.10   5.39  12.50\n",
              "8   12.0  12.0  12.0   8.0  10.84  9.13   8.15   5.56\n",
              "9    7.0   7.0   7.0   8.0   4.82  7.26   6.42   7.91\n",
              "10   5.0   5.0   5.0   8.0   5.68  4.74   5.73   6.89"
            ]
          },
          "execution_count": 163,
          "metadata": {},
          "output_type": "execute_result"
        }
      ],
      "source": [
        "X2_Frame=pd.DataFrame(np.array(X2),columns=[\"X1\",\"X2\",\"X3\",\"X4\",\"X5\",\"X6\",\"X7\",\"X8\"])\n",
        "X2_Frame"
      ]
    },
    {
      "cell_type": "code",
      "execution_count": 164,
      "metadata": {},
      "outputs": [],
      "source": [
        "def moye(x1,x2,x3,x4,x5,x6,x7,x8):\n",
        "    return round(np.mean(x1,x2,x3,x4,x5,x6,x7,x8),6)"
      ]
    },
    {
      "cell_type": "code",
      "execution_count": 165,
      "metadata": {},
      "outputs": [
        {
          "data": {
            "text/plain": [
              "X1    9.000000\n",
              "X2    9.000000\n",
              "X3    9.000000\n",
              "X4    9.000000\n",
              "X5    7.500909\n",
              "X6    7.446364\n",
              "X7    7.480000\n",
              "X8    7.500909\n",
              "dtype: float64"
            ]
          },
          "execution_count": 165,
          "metadata": {},
          "output_type": "execute_result"
        }
      ],
      "source": [
        "gravity_col=np.mean(X2_Frame,axis=0)\n",
        "gravity_col"
      ]
    },
    {
      "cell_type": "code",
      "execution_count": 180,
      "metadata": {},
      "outputs": [],
      "source": [
        "import statistics as stat"
      ]
    },
    {
      "cell_type": "code",
      "execution_count": 187,
      "metadata": {},
      "outputs": [
        {
          "name": "stdout",
          "output_type": "stream",
          "text": [
            "10.0\n",
            "10.0\n",
            "10.0\n",
            "10.0\n",
            "3.7520628099173554\n",
            "3.646968595041322\n",
            "3.7810363636363635\n",
            "3.7484082644628103\n"
          ]
        }
      ],
      "source": [
        "for x in X2_Frame.columns:\n",
        "   print(stat.variance(X2_Frame[x])*(10/11))"
      ]
    },
    {
      "cell_type": "code",
      "execution_count": 166,
      "metadata": {},
      "outputs": [
        {
          "data": {
            "text/html": [
              "<div>\n",
              "<style scoped>\n",
              "    .dataframe tbody tr th:only-of-type {\n",
              "        vertical-align: middle;\n",
              "    }\n",
              "\n",
              "    .dataframe tbody tr th {\n",
              "        vertical-align: top;\n",
              "    }\n",
              "\n",
              "    .dataframe thead th {\n",
              "        text-align: right;\n",
              "    }\n",
              "</style>\n",
              "<table border=\"1\" class=\"dataframe\">\n",
              "  <thead>\n",
              "    <tr style=\"text-align: right;\">\n",
              "      <th></th>\n",
              "      <th>X1</th>\n",
              "      <th>X2</th>\n",
              "      <th>X3</th>\n",
              "      <th>X4</th>\n",
              "      <th>X5</th>\n",
              "      <th>X6</th>\n",
              "      <th>X7</th>\n",
              "      <th>X8</th>\n",
              "    </tr>\n",
              "  </thead>\n",
              "  <tbody>\n",
              "    <tr>\n",
              "      <th>X1</th>\n",
              "      <td>11.000</td>\n",
              "      <td>11.000</td>\n",
              "      <td>11.000</td>\n",
              "      <td>-5.500</td>\n",
              "      <td>5.501000</td>\n",
              "      <td>5.260000</td>\n",
              "      <td>5.51900</td>\n",
              "      <td>-2.115000</td>\n",
              "    </tr>\n",
              "    <tr>\n",
              "      <th>X2</th>\n",
              "      <td>11.000</td>\n",
              "      <td>11.000</td>\n",
              "      <td>11.000</td>\n",
              "      <td>-5.500</td>\n",
              "      <td>5.501000</td>\n",
              "      <td>5.260000</td>\n",
              "      <td>5.51900</td>\n",
              "      <td>-2.115000</td>\n",
              "    </tr>\n",
              "    <tr>\n",
              "      <th>X3</th>\n",
              "      <td>11.000</td>\n",
              "      <td>11.000</td>\n",
              "      <td>11.000</td>\n",
              "      <td>-5.500</td>\n",
              "      <td>5.501000</td>\n",
              "      <td>5.260000</td>\n",
              "      <td>5.51900</td>\n",
              "      <td>-2.115000</td>\n",
              "    </tr>\n",
              "    <tr>\n",
              "      <th>X4</th>\n",
              "      <td>-5.500</td>\n",
              "      <td>-5.500</td>\n",
              "      <td>-5.500</td>\n",
              "      <td>11.000</td>\n",
              "      <td>-3.565000</td>\n",
              "      <td>-4.781000</td>\n",
              "      <td>-2.29900</td>\n",
              "      <td>5.499000</td>\n",
              "    </tr>\n",
              "    <tr>\n",
              "      <th>X5</th>\n",
              "      <td>5.501</td>\n",
              "      <td>5.501</td>\n",
              "      <td>5.501</td>\n",
              "      <td>-3.565</td>\n",
              "      <td>4.127269</td>\n",
              "      <td>3.090864</td>\n",
              "      <td>1.94555</td>\n",
              "      <td>-2.017731</td>\n",
              "    </tr>\n",
              "    <tr>\n",
              "      <th>X6</th>\n",
              "      <td>5.260</td>\n",
              "      <td>5.260</td>\n",
              "      <td>5.260</td>\n",
              "      <td>-4.781</td>\n",
              "      <td>3.090864</td>\n",
              "      <td>4.011665</td>\n",
              "      <td>2.09558</td>\n",
              "      <td>-1.984896</td>\n",
              "    </tr>\n",
              "    <tr>\n",
              "      <th>X7</th>\n",
              "      <td>5.519</td>\n",
              "      <td>5.519</td>\n",
              "      <td>5.519</td>\n",
              "      <td>-2.299</td>\n",
              "      <td>1.945550</td>\n",
              "      <td>2.095580</td>\n",
              "      <td>4.15914</td>\n",
              "      <td>-0.602700</td>\n",
              "    </tr>\n",
              "    <tr>\n",
              "      <th>X8</th>\n",
              "      <td>-2.115</td>\n",
              "      <td>-2.115</td>\n",
              "      <td>-2.115</td>\n",
              "      <td>5.499</td>\n",
              "      <td>-2.017731</td>\n",
              "      <td>-1.984896</td>\n",
              "      <td>-0.60270</td>\n",
              "      <td>4.123249</td>\n",
              "    </tr>\n",
              "  </tbody>\n",
              "</table>\n",
              "</div>"
            ],
            "text/plain": [
              "        X1      X2      X3      X4        X5        X6       X7        X8\n",
              "X1  11.000  11.000  11.000  -5.500  5.501000  5.260000  5.51900 -2.115000\n",
              "X2  11.000  11.000  11.000  -5.500  5.501000  5.260000  5.51900 -2.115000\n",
              "X3  11.000  11.000  11.000  -5.500  5.501000  5.260000  5.51900 -2.115000\n",
              "X4  -5.500  -5.500  -5.500  11.000 -3.565000 -4.781000 -2.29900  5.499000\n",
              "X5   5.501   5.501   5.501  -3.565  4.127269  3.090864  1.94555 -2.017731\n",
              "X6   5.260   5.260   5.260  -4.781  3.090864  4.011665  2.09558 -1.984896\n",
              "X7   5.519   5.519   5.519  -2.299  1.945550  2.095580  4.15914 -0.602700\n",
              "X8  -2.115  -2.115  -2.115   5.499 -2.017731 -1.984896 -0.60270  4.123249"
            ]
          },
          "execution_count": 166,
          "metadata": {},
          "output_type": "execute_result"
        }
      ],
      "source": [
        "X2_Frame.cov()"
      ]
    },
    {
      "cell_type": "code",
      "execution_count": 167,
      "metadata": {},
      "outputs": [
        {
          "data": {
            "text/html": [
              "<div>\n",
              "<style scoped>\n",
              "    .dataframe tbody tr th:only-of-type {\n",
              "        vertical-align: middle;\n",
              "    }\n",
              "\n",
              "    .dataframe tbody tr th {\n",
              "        vertical-align: top;\n",
              "    }\n",
              "\n",
              "    .dataframe thead th {\n",
              "        text-align: right;\n",
              "    }\n",
              "</style>\n",
              "<table border=\"1\" class=\"dataframe\">\n",
              "  <thead>\n",
              "    <tr style=\"text-align: right;\">\n",
              "      <th></th>\n",
              "      <th>X1</th>\n",
              "      <th>X5</th>\n",
              "    </tr>\n",
              "  </thead>\n",
              "  <tbody>\n",
              "    <tr>\n",
              "      <th>X1</th>\n",
              "      <td>1.000000</td>\n",
              "      <td>0.816421</td>\n",
              "    </tr>\n",
              "    <tr>\n",
              "      <th>X5</th>\n",
              "      <td>0.816421</td>\n",
              "      <td>1.000000</td>\n",
              "    </tr>\n",
              "  </tbody>\n",
              "</table>\n",
              "</div>"
            ],
            "text/plain": [
              "          X1        X5\n",
              "X1  1.000000  0.816421\n",
              "X5  0.816421  1.000000"
            ]
          },
          "execution_count": 167,
          "metadata": {},
          "output_type": "execute_result"
        }
      ],
      "source": [
        "X2_Frame[[\"X1\",\"X5\"]].corr()"
      ]
    },
    {
      "cell_type": "code",
      "execution_count": 168,
      "metadata": {},
      "outputs": [
        {
          "data": {
            "text/html": [
              "<div>\n",
              "<style scoped>\n",
              "    .dataframe tbody tr th:only-of-type {\n",
              "        vertical-align: middle;\n",
              "    }\n",
              "\n",
              "    .dataframe tbody tr th {\n",
              "        vertical-align: top;\n",
              "    }\n",
              "\n",
              "    .dataframe thead th {\n",
              "        text-align: right;\n",
              "    }\n",
              "</style>\n",
              "<table border=\"1\" class=\"dataframe\">\n",
              "  <thead>\n",
              "    <tr style=\"text-align: right;\">\n",
              "      <th></th>\n",
              "      <th>X2</th>\n",
              "      <th>X6</th>\n",
              "    </tr>\n",
              "  </thead>\n",
              "  <tbody>\n",
              "    <tr>\n",
              "      <th>X2</th>\n",
              "      <td>1.000000</td>\n",
              "      <td>0.791821</td>\n",
              "    </tr>\n",
              "    <tr>\n",
              "      <th>X6</th>\n",
              "      <td>0.791821</td>\n",
              "      <td>1.000000</td>\n",
              "    </tr>\n",
              "  </tbody>\n",
              "</table>\n",
              "</div>"
            ],
            "text/plain": [
              "          X2        X6\n",
              "X2  1.000000  0.791821\n",
              "X6  0.791821  1.000000"
            ]
          },
          "execution_count": 168,
          "metadata": {},
          "output_type": "execute_result"
        }
      ],
      "source": [
        "X2_Frame[[\"X2\",\"X6\"]].corr()"
      ]
    },
    {
      "cell_type": "code",
      "execution_count": 169,
      "metadata": {},
      "outputs": [
        {
          "data": {
            "text/html": [
              "<div>\n",
              "<style scoped>\n",
              "    .dataframe tbody tr th:only-of-type {\n",
              "        vertical-align: middle;\n",
              "    }\n",
              "\n",
              "    .dataframe tbody tr th {\n",
              "        vertical-align: top;\n",
              "    }\n",
              "\n",
              "    .dataframe thead th {\n",
              "        text-align: right;\n",
              "    }\n",
              "</style>\n",
              "<table border=\"1\" class=\"dataframe\">\n",
              "  <thead>\n",
              "    <tr style=\"text-align: right;\">\n",
              "      <th></th>\n",
              "      <th>X3</th>\n",
              "      <th>X7</th>\n",
              "    </tr>\n",
              "  </thead>\n",
              "  <tbody>\n",
              "    <tr>\n",
              "      <th>X3</th>\n",
              "      <td>1.000000</td>\n",
              "      <td>0.815948</td>\n",
              "    </tr>\n",
              "    <tr>\n",
              "      <th>X7</th>\n",
              "      <td>0.815948</td>\n",
              "      <td>1.000000</td>\n",
              "    </tr>\n",
              "  </tbody>\n",
              "</table>\n",
              "</div>"
            ],
            "text/plain": [
              "          X3        X7\n",
              "X3  1.000000  0.815948\n",
              "X7  0.815948  1.000000"
            ]
          },
          "execution_count": 169,
          "metadata": {},
          "output_type": "execute_result"
        }
      ],
      "source": [
        "X2_Frame[[\"X3\",\"X7\"]].corr()"
      ]
    },
    {
      "cell_type": "code",
      "execution_count": 170,
      "metadata": {},
      "outputs": [
        {
          "data": {
            "text/html": [
              "<div>\n",
              "<style scoped>\n",
              "    .dataframe tbody tr th:only-of-type {\n",
              "        vertical-align: middle;\n",
              "    }\n",
              "\n",
              "    .dataframe tbody tr th {\n",
              "        vertical-align: top;\n",
              "    }\n",
              "\n",
              "    .dataframe thead th {\n",
              "        text-align: right;\n",
              "    }\n",
              "</style>\n",
              "<table border=\"1\" class=\"dataframe\">\n",
              "  <thead>\n",
              "    <tr style=\"text-align: right;\">\n",
              "      <th></th>\n",
              "      <th>X4</th>\n",
              "      <th>X8</th>\n",
              "    </tr>\n",
              "  </thead>\n",
              "  <tbody>\n",
              "    <tr>\n",
              "      <th>X4</th>\n",
              "      <td>1.000000</td>\n",
              "      <td>0.816521</td>\n",
              "    </tr>\n",
              "    <tr>\n",
              "      <th>X8</th>\n",
              "      <td>0.816521</td>\n",
              "      <td>1.000000</td>\n",
              "    </tr>\n",
              "  </tbody>\n",
              "</table>\n",
              "</div>"
            ],
            "text/plain": [
              "          X4        X8\n",
              "X4  1.000000  0.816521\n",
              "X8  0.816521  1.000000"
            ]
          },
          "execution_count": 170,
          "metadata": {},
          "output_type": "execute_result"
        }
      ],
      "source": [
        "X2_Frame[[\"X4\",\"X8\"]].corr()"
      ]
    },
    {
      "attachments": {},
      "cell_type": "markdown",
      "metadata": {},
      "source": [
        "forte correclation"
      ]
    },
    {
      "cell_type": "code",
      "execution_count": 188,
      "metadata": {},
      "outputs": [
        {
          "data": {
            "text/plain": [
              "Text(0.5, 1.0, 'X4 ,X8')"
            ]
          },
          "execution_count": 188,
          "metadata": {},
          "output_type": "execute_result"
        },
        {
          "data": {
            "image/png": "[encoded data removed]",
            "text/plain": [
              "<Figure size 864x576 with 4 Axes>"
            ]
          },
          "metadata": {
            "needs_background": "light"
          },
          "output_type": "display_data"
        }
      ],
      "source": [
        "fig, ((ax1, ax2),(ax3,ax4)) = plt.subplots(2, 2, figsize=(12, 8))\n",
        "ax1.scatter(X2_Frame[\"X1\"],X2_Frame[\"X5\"])\n",
        "ax1.set_title(\"X1 ,X5\")\n",
        "\n",
        "ax2.scatter(X2_Frame[\"X2\"],X2_Frame[\"X6\"])\n",
        "ax2.set_title(\"X6 ,X2\")\n",
        "ax3.scatter(X2_Frame[\"X3\"],X2_Frame[\"X7\"])\n",
        "ax3.set_title(\"X3 ,X7\")\n",
        "ax4.scatter(X2_Frame[\"X4\"],X2_Frame[\"X8\"])\n",
        "ax4.set_title(\"X4 ,X8\")"
      ]
    },
    {
      "attachments": {},
      "cell_type": "markdown",
      "metadata": {},
      "source": [
        "EXO03"
      ]
    },
    {
      "cell_type": "code",
      "execution_count": 191,
      "metadata": {},
      "outputs": [],
      "source": [
        "X3 =np.array( [\n",
        "    [8,30,55],\n",
        "    [2,6,40],\n",
        "    [5,15,30],\n",
        "    [7,22,40]\n",
        "])"
      ]
    },
    {
      "cell_type": "code",
      "execution_count": 192,
      "metadata": {},
      "outputs": [
        {
          "data": {
            "text/plain": [
              "array([[ 8, 30, 55],\n",
              "       [ 2,  6, 40],\n",
              "       [ 5, 15, 30],\n",
              "       [ 7, 22, 40]])"
            ]
          },
          "execution_count": 192,
          "metadata": {},
          "output_type": "execute_result"
        }
      ],
      "source": [
        "X3"
      ]
    },
    {
      "cell_type": "code",
      "execution_count": 194,
      "metadata": {},
      "outputs": [
        {
          "data": {
            "text/plain": [
              "array([ 5.5 , 18.25, 41.25])"
            ]
          },
          "execution_count": 194,
          "metadata": {},
          "output_type": "execute_result"
        }
      ],
      "source": [
        "X3_centre =np.mean(X3,axis=0)\n",
        "X3_centre"
      ]
    },
    {
      "cell_type": "code",
      "execution_count": 217,
      "metadata": {},
      "outputs": [],
      "source": [
        "std= np.sqrt(np.array([stat.variance(x) for x in X3])).reshape(4,1)"
      ]
    },
    {
      "cell_type": "code",
      "execution_count": 218,
      "metadata": {},
      "outputs": [
        {
          "data": {
            "text/plain": [
              "array([[23.51595203],\n",
              "       [20.88061302],\n",
              "       [12.56980509],\n",
              "       [16.52271164]])"
            ]
          },
          "execution_count": 218,
          "metadata": {},
          "output_type": "execute_result"
        }
      ],
      "source": [
        "std"
      ]
    },
    {
      "cell_type": "code",
      "execution_count": 220,
      "metadata": {},
      "outputs": [],
      "source": [
        "X_centree = np.subtract(X3 , X3_centre)/std\n"
      ]
    },
    {
      "cell_type": "code",
      "execution_count": 226,
      "metadata": {},
      "outputs": [],
      "source": [
        "X_centree = X_centree.reshape(4,3)"
      ]
    },
    {
      "cell_type": "code",
      "execution_count": 233,
      "metadata": {},
      "outputs": [
        {
          "data": {
            "text/plain": [
              "array([[ 0.10631081,  0.49966083,  0.58470948],\n",
              "       [-0.1676196 , -0.5866686 , -0.05986414],\n",
              "       [-0.03977786, -0.25855612, -0.89500194],\n",
              "       [ 0.09078413,  0.22696032, -0.07565344]])"
            ]
          },
          "execution_count": 233,
          "metadata": {},
          "output_type": "execute_result"
        }
      ],
      "source": [
        "X_centree"
      ]
    },
    {
      "cell_type": "code",
      "execution_count": 229,
      "metadata": {},
      "outputs": [
        {
          "data": {
            "text/html": [
              "<div>\n",
              "<style scoped>\n",
              "    .dataframe tbody tr th:only-of-type {\n",
              "        vertical-align: middle;\n",
              "    }\n",
              "\n",
              "    .dataframe tbody tr th {\n",
              "        vertical-align: top;\n",
              "    }\n",
              "\n",
              "    .dataframe thead th {\n",
              "        text-align: right;\n",
              "    }\n",
              "</style>\n",
              "<table border=\"1\" class=\"dataframe\">\n",
              "  <thead>\n",
              "    <tr style=\"text-align: right;\">\n",
              "      <th></th>\n",
              "      <th>0</th>\n",
              "      <th>1</th>\n",
              "      <th>2</th>\n",
              "    </tr>\n",
              "  </thead>\n",
              "  <tbody>\n",
              "    <tr>\n",
              "      <th>0</th>\n",
              "      <td>8</td>\n",
              "      <td>30</td>\n",
              "      <td>55</td>\n",
              "    </tr>\n",
              "    <tr>\n",
              "      <th>1</th>\n",
              "      <td>2</td>\n",
              "      <td>6</td>\n",
              "      <td>40</td>\n",
              "    </tr>\n",
              "    <tr>\n",
              "      <th>2</th>\n",
              "      <td>5</td>\n",
              "      <td>15</td>\n",
              "      <td>30</td>\n",
              "    </tr>\n",
              "    <tr>\n",
              "      <th>3</th>\n",
              "      <td>7</td>\n",
              "      <td>22</td>\n",
              "      <td>40</td>\n",
              "    </tr>\n",
              "  </tbody>\n",
              "</table>\n",
              "</div>"
            ],
            "text/plain": [
              "   0   1   2\n",
              "0  8  30  55\n",
              "1  2   6  40\n",
              "2  5  15  30\n",
              "3  7  22  40"
            ]
          },
          "execution_count": 229,
          "metadata": {},
          "output_type": "execute_result"
        }
      ],
      "source": [
        "X3_pd=pd.DataFrame(X3)\n",
        "X3_pd"
      ]
    },
    {
      "cell_type": "code",
      "execution_count": 231,
      "metadata": {},
      "outputs": [
        {
          "data": {
            "text/html": [
              "<div>\n",
              "<style scoped>\n",
              "    .dataframe tbody tr th:only-of-type {\n",
              "        vertical-align: middle;\n",
              "    }\n",
              "\n",
              "    .dataframe tbody tr th {\n",
              "        vertical-align: top;\n",
              "    }\n",
              "\n",
              "    .dataframe thead th {\n",
              "        text-align: right;\n",
              "    }\n",
              "</style>\n",
              "<table border=\"1\" class=\"dataframe\">\n",
              "  <thead>\n",
              "    <tr style=\"text-align: right;\">\n",
              "      <th></th>\n",
              "      <th>0</th>\n",
              "      <th>1</th>\n",
              "      <th>2</th>\n",
              "    </tr>\n",
              "  </thead>\n",
              "  <tbody>\n",
              "    <tr>\n",
              "      <th>0</th>\n",
              "      <td>1.000000</td>\n",
              "      <td>0.980977</td>\n",
              "      <td>0.519462</td>\n",
              "    </tr>\n",
              "    <tr>\n",
              "      <th>1</th>\n",
              "      <td>0.980977</td>\n",
              "      <td>1.000000</td>\n",
              "      <td>0.661154</td>\n",
              "    </tr>\n",
              "    <tr>\n",
              "      <th>2</th>\n",
              "      <td>0.519462</td>\n",
              "      <td>0.661154</td>\n",
              "      <td>1.000000</td>\n",
              "    </tr>\n",
              "  </tbody>\n",
              "</table>\n",
              "</div>"
            ],
            "text/plain": [
              "          0         1         2\n",
              "0  1.000000  0.980977  0.519462\n",
              "1  0.980977  1.000000  0.661154\n",
              "2  0.519462  0.661154  1.000000"
            ]
          },
          "execution_count": 231,
          "metadata": {},
          "output_type": "execute_result"
        }
      ],
      "source": [
        "mat_corr=X3_pd.corr()\n",
        "mat_corr"
      ]
    },
    {
      "cell_type": "code",
      "execution_count": 234,
      "metadata": {},
      "outputs": [
        {
          "name": "stdout",
          "output_type": "stream",
          "text": [
            "Valeurs propres :  [2.45975415 0.003439   0.53680685]\n",
            "Vecteurs propres associés :  [[-0.59882492 -0.65145655 -0.46584663]\n",
            " [-0.62770014  0.74302177 -0.23218783]\n",
            " [-0.49739446 -0.15337214  0.85385932]]\n"
          ]
        }
      ],
      "source": [
        "# Calculer les valeurs propres et vecteurs propres associés\n",
        "eigenvalues, eigenvectors = np.linalg.eig(mat_corr)\n",
        "\n",
        "# Afficher les valeurs propres\n",
        "print(\"Valeurs propres : \", eigenvalues)\n",
        "\n",
        "# Afficher les vecteurs proprhes associés\n",
        "print(\"Vecteurs propres associés : \", eigenvectors)"
      ]
    },
    {
      "cell_type": "code",
      "execution_count": null,
      "metadata": {},
      "outputs": [],
      "source": []
    }
  ],
  "metadata": {
    "colab": {
      "provenance": []
    },
    "kernelspec": {
      "display_name": "Python 3",
      "language": "python",
      "name": "python3"
    },
    "language_info": {
      "codemirror_mode": {
        "name": "ipython",
        "version": 3
      },
      "file_extension": ".py",
      "mimetype": "text/x-python",
      "name": "python",
      "nbconvert_exporter": "python",
      "pygments_lexer": "ipython3",
      "version": "3.9.4"
    },
    "vscode": {
      "interpreter": {
        "hash": "2e52f28d137e14bd08d42b56e85df070efb682d62b603f2b228966f78553c64f"
      }
    }
  },
  "nbformat": 4,
  "nbformat_minor": 0
}
