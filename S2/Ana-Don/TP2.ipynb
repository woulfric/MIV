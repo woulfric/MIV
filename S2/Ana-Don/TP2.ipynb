{
 "cells": [
  {
   "cell_type": "code",
   "execution_count": 91,
   "metadata": {},
   "outputs": [],
   "source": [
    "import math\n",
    "import statistics as st\n",
    "import numpy as np\n",
    "import pandas as pd\n",
    "import scipy \n",
    "import matplotlib.pyplot as plt "
   ]
  },
  {
   "cell_type": "code",
   "execution_count": 92,
   "metadata": {},
   "outputs": [],
   "source": [
    "X_list=[\n",
    "    [14, 13, 1.50, 45],\n",
    "    [16, 13, 1.60, 50],\n",
    "    [15, 13, 1.65, 50],\n",
    "    [9 , 15, 1.75, 60],\n",
    "    [10, 14, 1.70, 60],\n",
    "    [7 , 14, 1.70, 60],\n",
    "    [8 , 14, 1.60, 70],\n",
    "    [13, 13, 1.60, 65],\n",
    "    [17, 15, 1.55, 60],\n",
    "    [11, 14, 1.70, 65]\n",
    "]"
   ]
  },
  {
   "cell_type": "code",
   "execution_count": 93,
   "metadata": {},
   "outputs": [
    {
     "data": {
      "text/plain": [
       "['enfant1',\n",
       " 'enfant2',\n",
       " 'enfant3',\n",
       " 'enfant4',\n",
       " 'enfant5',\n",
       " 'enfant6',\n",
       " 'enfant7',\n",
       " 'enfant8',\n",
       " 'enfant9',\n",
       " 'enfant10']"
      ]
     },
     "execution_count": 93,
     "metadata": {},
     "output_type": "execute_result"
    }
   ],
   "source": [
    "ind=list()\n",
    "for i in range(10):\n",
    "  ind.append('enfant'+str(i+1))\n",
    "ind"
   ]
  },
  {
   "cell_type": "code",
   "execution_count": 94,
   "metadata": {},
   "outputs": [
    {
     "data": {
      "text/html": [
       "<div>\n",
       "<style scoped>\n",
       "    .dataframe tbody tr th:only-of-type {\n",
       "        vertical-align: middle;\n",
       "    }\n",
       "\n",
       "    .dataframe tbody tr th {\n",
       "        vertical-align: top;\n",
       "    }\n",
       "\n",
       "    .dataframe thead th {\n",
       "        text-align: right;\n",
       "    }\n",
       "</style>\n",
       "<table border=\"1\" class=\"dataframe\">\n",
       "  <thead>\n",
       "    <tr style=\"text-align: right;\">\n",
       "      <th></th>\n",
       "      <th>moy</th>\n",
       "      <th>age</th>\n",
       "      <th>taille</th>\n",
       "      <th>poid</th>\n",
       "    </tr>\n",
       "  </thead>\n",
       "  <tbody>\n",
       "    <tr>\n",
       "      <th>enfant1</th>\n",
       "      <td>14</td>\n",
       "      <td>13</td>\n",
       "      <td>1.50</td>\n",
       "      <td>45</td>\n",
       "    </tr>\n",
       "    <tr>\n",
       "      <th>enfant2</th>\n",
       "      <td>16</td>\n",
       "      <td>13</td>\n",
       "      <td>1.60</td>\n",
       "      <td>50</td>\n",
       "    </tr>\n",
       "    <tr>\n",
       "      <th>enfant3</th>\n",
       "      <td>15</td>\n",
       "      <td>13</td>\n",
       "      <td>1.65</td>\n",
       "      <td>50</td>\n",
       "    </tr>\n",
       "    <tr>\n",
       "      <th>enfant4</th>\n",
       "      <td>9</td>\n",
       "      <td>15</td>\n",
       "      <td>1.75</td>\n",
       "      <td>60</td>\n",
       "    </tr>\n",
       "    <tr>\n",
       "      <th>enfant5</th>\n",
       "      <td>10</td>\n",
       "      <td>14</td>\n",
       "      <td>1.70</td>\n",
       "      <td>60</td>\n",
       "    </tr>\n",
       "    <tr>\n",
       "      <th>enfant6</th>\n",
       "      <td>7</td>\n",
       "      <td>14</td>\n",
       "      <td>1.70</td>\n",
       "      <td>60</td>\n",
       "    </tr>\n",
       "    <tr>\n",
       "      <th>enfant7</th>\n",
       "      <td>8</td>\n",
       "      <td>14</td>\n",
       "      <td>1.60</td>\n",
       "      <td>70</td>\n",
       "    </tr>\n",
       "    <tr>\n",
       "      <th>enfant8</th>\n",
       "      <td>13</td>\n",
       "      <td>13</td>\n",
       "      <td>1.60</td>\n",
       "      <td>65</td>\n",
       "    </tr>\n",
       "    <tr>\n",
       "      <th>enfant9</th>\n",
       "      <td>17</td>\n",
       "      <td>15</td>\n",
       "      <td>1.55</td>\n",
       "      <td>60</td>\n",
       "    </tr>\n",
       "    <tr>\n",
       "      <th>enfant10</th>\n",
       "      <td>11</td>\n",
       "      <td>14</td>\n",
       "      <td>1.70</td>\n",
       "      <td>65</td>\n",
       "    </tr>\n",
       "  </tbody>\n",
       "</table>\n",
       "</div>"
      ],
      "text/plain": [
       "          moy  age  taille  poid\n",
       "enfant1    14   13    1.50    45\n",
       "enfant2    16   13    1.60    50\n",
       "enfant3    15   13    1.65    50\n",
       "enfant4     9   15    1.75    60\n",
       "enfant5    10   14    1.70    60\n",
       "enfant6     7   14    1.70    60\n",
       "enfant7     8   14    1.60    70\n",
       "enfant8    13   13    1.60    65\n",
       "enfant9    17   15    1.55    60\n",
       "enfant10   11   14    1.70    65"
      ]
     },
     "execution_count": 94,
     "metadata": {},
     "output_type": "execute_result"
    }
   ],
   "source": [
    "X=pd.DataFrame(X_list,columns=['moy','age','taille','poid'],index=ind)\n",
    "# X=pd.DataFrame(X_list)\n",
    "X"
   ]
  },
  {
   "attachments": {},
   "cell_type": "markdown",
   "metadata": {},
   "source": [
    "1) Afficher la matrice centrée réduite de la matrice des données."
   ]
  },
  {
   "cell_type": "code",
   "execution_count": 95,
   "metadata": {},
   "outputs": [
    {
     "data": {
      "text/plain": [
       "[12.0, 13.8, 1.635, 58.5]"
      ]
     },
     "execution_count": 95,
     "metadata": {},
     "output_type": "execute_result"
    }
   ],
   "source": [
    "centreG = [round(X[col].mean(),3) for col in X.columns]\n",
    "centreG"
   ]
  },
  {
   "cell_type": "code",
   "execution_count": 96,
   "metadata": {},
   "outputs": [
    {
     "data": {
      "text/html": [
       "<div>\n",
       "<style scoped>\n",
       "    .dataframe tbody tr th:only-of-type {\n",
       "        vertical-align: middle;\n",
       "    }\n",
       "\n",
       "    .dataframe tbody tr th {\n",
       "        vertical-align: top;\n",
       "    }\n",
       "\n",
       "    .dataframe thead th {\n",
       "        text-align: right;\n",
       "    }\n",
       "</style>\n",
       "<table border=\"1\" class=\"dataframe\">\n",
       "  <thead>\n",
       "    <tr style=\"text-align: right;\">\n",
       "      <th></th>\n",
       "      <th>moy</th>\n",
       "      <th>age</th>\n",
       "      <th>taille</th>\n",
       "      <th>poid</th>\n",
       "    </tr>\n",
       "  </thead>\n",
       "  <tbody>\n",
       "    <tr>\n",
       "      <th>enfant1</th>\n",
       "      <td>2.0</td>\n",
       "      <td>-0.8</td>\n",
       "      <td>-0.135</td>\n",
       "      <td>-13.5</td>\n",
       "    </tr>\n",
       "    <tr>\n",
       "      <th>enfant2</th>\n",
       "      <td>4.0</td>\n",
       "      <td>-0.8</td>\n",
       "      <td>-0.035</td>\n",
       "      <td>-8.5</td>\n",
       "    </tr>\n",
       "    <tr>\n",
       "      <th>enfant3</th>\n",
       "      <td>3.0</td>\n",
       "      <td>-0.8</td>\n",
       "      <td>0.015</td>\n",
       "      <td>-8.5</td>\n",
       "    </tr>\n",
       "    <tr>\n",
       "      <th>enfant4</th>\n",
       "      <td>-3.0</td>\n",
       "      <td>1.2</td>\n",
       "      <td>0.115</td>\n",
       "      <td>1.5</td>\n",
       "    </tr>\n",
       "    <tr>\n",
       "      <th>enfant5</th>\n",
       "      <td>-2.0</td>\n",
       "      <td>0.2</td>\n",
       "      <td>0.065</td>\n",
       "      <td>1.5</td>\n",
       "    </tr>\n",
       "    <tr>\n",
       "      <th>enfant6</th>\n",
       "      <td>-5.0</td>\n",
       "      <td>0.2</td>\n",
       "      <td>0.065</td>\n",
       "      <td>1.5</td>\n",
       "    </tr>\n",
       "    <tr>\n",
       "      <th>enfant7</th>\n",
       "      <td>-4.0</td>\n",
       "      <td>0.2</td>\n",
       "      <td>-0.035</td>\n",
       "      <td>11.5</td>\n",
       "    </tr>\n",
       "    <tr>\n",
       "      <th>enfant8</th>\n",
       "      <td>1.0</td>\n",
       "      <td>-0.8</td>\n",
       "      <td>-0.035</td>\n",
       "      <td>6.5</td>\n",
       "    </tr>\n",
       "    <tr>\n",
       "      <th>enfant9</th>\n",
       "      <td>5.0</td>\n",
       "      <td>1.2</td>\n",
       "      <td>-0.085</td>\n",
       "      <td>1.5</td>\n",
       "    </tr>\n",
       "    <tr>\n",
       "      <th>enfant10</th>\n",
       "      <td>-1.0</td>\n",
       "      <td>0.2</td>\n",
       "      <td>0.065</td>\n",
       "      <td>6.5</td>\n",
       "    </tr>\n",
       "  </tbody>\n",
       "</table>\n",
       "</div>"
      ],
      "text/plain": [
       "          moy  age  taille  poid\n",
       "enfant1   2.0 -0.8  -0.135 -13.5\n",
       "enfant2   4.0 -0.8  -0.035  -8.5\n",
       "enfant3   3.0 -0.8   0.015  -8.5\n",
       "enfant4  -3.0  1.2   0.115   1.5\n",
       "enfant5  -2.0  0.2   0.065   1.5\n",
       "enfant6  -5.0  0.2   0.065   1.5\n",
       "enfant7  -4.0  0.2  -0.035  11.5\n",
       "enfant8   1.0 -0.8  -0.035   6.5\n",
       "enfant9   5.0  1.2  -0.085   1.5\n",
       "enfant10 -1.0  0.2   0.065   6.5"
      ]
     },
     "execution_count": 96,
     "metadata": {},
     "output_type": "execute_result"
    }
   ],
   "source": [
    "X_centre = X-centreG\n",
    "X_centre"
   ]
  },
  {
   "cell_type": "code",
   "execution_count": 97,
   "metadata": {},
   "outputs": [
    {
     "data": {
      "text/plain": [
       "moy       3.316625\n",
       "age       0.748331\n",
       "taille    0.074330\n",
       "poid      7.433034\n",
       "dtype: float64"
      ]
     },
     "execution_count": 97,
     "metadata": {},
     "output_type": "execute_result"
    }
   ],
   "source": [
    "X_eqrt = np.std(X)\n",
    "X_eqrt"
   ]
  },
  {
   "cell_type": "code",
   "execution_count": 98,
   "metadata": {},
   "outputs": [
    {
     "data": {
      "text/html": [
       "<div>\n",
       "<style scoped>\n",
       "    .dataframe tbody tr th:only-of-type {\n",
       "        vertical-align: middle;\n",
       "    }\n",
       "\n",
       "    .dataframe tbody tr th {\n",
       "        vertical-align: top;\n",
       "    }\n",
       "\n",
       "    .dataframe thead th {\n",
       "        text-align: right;\n",
       "    }\n",
       "</style>\n",
       "<table border=\"1\" class=\"dataframe\">\n",
       "  <thead>\n",
       "    <tr style=\"text-align: right;\">\n",
       "      <th></th>\n",
       "      <th>moy</th>\n",
       "      <th>age</th>\n",
       "      <th>taille</th>\n",
       "      <th>poid</th>\n",
       "    </tr>\n",
       "  </thead>\n",
       "  <tbody>\n",
       "    <tr>\n",
       "      <th>enfant1</th>\n",
       "      <td>0.603023</td>\n",
       "      <td>-1.069045</td>\n",
       "      <td>-1.816217</td>\n",
       "      <td>-1.816217</td>\n",
       "    </tr>\n",
       "    <tr>\n",
       "      <th>enfant2</th>\n",
       "      <td>1.206045</td>\n",
       "      <td>-1.069045</td>\n",
       "      <td>-0.470871</td>\n",
       "      <td>-1.143544</td>\n",
       "    </tr>\n",
       "    <tr>\n",
       "      <th>enfant3</th>\n",
       "      <td>0.904534</td>\n",
       "      <td>-1.069045</td>\n",
       "      <td>0.201802</td>\n",
       "      <td>-1.143544</td>\n",
       "    </tr>\n",
       "    <tr>\n",
       "      <th>enfant4</th>\n",
       "      <td>-0.904534</td>\n",
       "      <td>1.603567</td>\n",
       "      <td>1.547147</td>\n",
       "      <td>0.201802</td>\n",
       "    </tr>\n",
       "    <tr>\n",
       "      <th>enfant5</th>\n",
       "      <td>-0.603023</td>\n",
       "      <td>0.267261</td>\n",
       "      <td>0.874475</td>\n",
       "      <td>0.201802</td>\n",
       "    </tr>\n",
       "    <tr>\n",
       "      <th>enfant6</th>\n",
       "      <td>-1.507557</td>\n",
       "      <td>0.267261</td>\n",
       "      <td>0.874475</td>\n",
       "      <td>0.201802</td>\n",
       "    </tr>\n",
       "    <tr>\n",
       "      <th>enfant7</th>\n",
       "      <td>-1.206045</td>\n",
       "      <td>0.267261</td>\n",
       "      <td>-0.470871</td>\n",
       "      <td>1.547147</td>\n",
       "    </tr>\n",
       "    <tr>\n",
       "      <th>enfant8</th>\n",
       "      <td>0.301511</td>\n",
       "      <td>-1.069045</td>\n",
       "      <td>-0.470871</td>\n",
       "      <td>0.874475</td>\n",
       "    </tr>\n",
       "    <tr>\n",
       "      <th>enfant9</th>\n",
       "      <td>1.507557</td>\n",
       "      <td>1.603567</td>\n",
       "      <td>-1.143544</td>\n",
       "      <td>0.201802</td>\n",
       "    </tr>\n",
       "    <tr>\n",
       "      <th>enfant10</th>\n",
       "      <td>-0.301511</td>\n",
       "      <td>0.267261</td>\n",
       "      <td>0.874475</td>\n",
       "      <td>0.874475</td>\n",
       "    </tr>\n",
       "  </tbody>\n",
       "</table>\n",
       "</div>"
      ],
      "text/plain": [
       "               moy       age    taille      poid\n",
       "enfant1   0.603023 -1.069045 -1.816217 -1.816217\n",
       "enfant2   1.206045 -1.069045 -0.470871 -1.143544\n",
       "enfant3   0.904534 -1.069045  0.201802 -1.143544\n",
       "enfant4  -0.904534  1.603567  1.547147  0.201802\n",
       "enfant5  -0.603023  0.267261  0.874475  0.201802\n",
       "enfant6  -1.507557  0.267261  0.874475  0.201802\n",
       "enfant7  -1.206045  0.267261 -0.470871  1.547147\n",
       "enfant8   0.301511 -1.069045 -0.470871  0.874475\n",
       "enfant9   1.507557  1.603567 -1.143544  0.201802\n",
       "enfant10 -0.301511  0.267261  0.874475  0.874475"
      ]
     },
     "execution_count": 98,
     "metadata": {},
     "output_type": "execute_result"
    }
   ],
   "source": [
    "X_centre_reduite = X_centre / X_eqrt\n",
    "X_centre_reduite"
   ]
  },
  {
   "attachments": {},
   "cell_type": "markdown",
   "metadata": {},
   "source": [
    "***2***"
   ]
  },
  {
   "attachments": {},
   "cell_type": "markdown",
   "metadata": {},
   "source": [
    "Les  valeurs  propres  de  la  matrice  des  corrélations  R  des  données  de  la  matrice  X \n",
    "(déjà calculées) sur la première colonne."
   ]
  },
  {
   "cell_type": "code",
   "execution_count": 99,
   "metadata": {},
   "outputs": [
    {
     "data": {
      "text/html": [
       "<div>\n",
       "<style scoped>\n",
       "    .dataframe tbody tr th:only-of-type {\n",
       "        vertical-align: middle;\n",
       "    }\n",
       "\n",
       "    .dataframe tbody tr th {\n",
       "        vertical-align: top;\n",
       "    }\n",
       "\n",
       "    .dataframe thead th {\n",
       "        text-align: right;\n",
       "    }\n",
       "</style>\n",
       "<table border=\"1\" class=\"dataframe\">\n",
       "  <thead>\n",
       "    <tr style=\"text-align: right;\">\n",
       "      <th></th>\n",
       "      <th>moy</th>\n",
       "      <th>age</th>\n",
       "      <th>taille</th>\n",
       "      <th>poid</th>\n",
       "    </tr>\n",
       "  </thead>\n",
       "  <tbody>\n",
       "    <tr>\n",
       "      <th>moy</th>\n",
       "      <td>1.000000</td>\n",
       "      <td>-0.322329</td>\n",
       "      <td>-0.628737</td>\n",
       "      <td>-0.567892</td>\n",
       "    </tr>\n",
       "    <tr>\n",
       "      <th>age</th>\n",
       "      <td>-0.322329</td>\n",
       "      <td>1.000000</td>\n",
       "      <td>0.395515</td>\n",
       "      <td>0.485404</td>\n",
       "    </tr>\n",
       "    <tr>\n",
       "      <th>taille</th>\n",
       "      <td>-0.628737</td>\n",
       "      <td>0.395515</td>\n",
       "      <td>1.000000</td>\n",
       "      <td>0.366516</td>\n",
       "    </tr>\n",
       "    <tr>\n",
       "      <th>poid</th>\n",
       "      <td>-0.567892</td>\n",
       "      <td>0.485404</td>\n",
       "      <td>0.366516</td>\n",
       "      <td>1.000000</td>\n",
       "    </tr>\n",
       "  </tbody>\n",
       "</table>\n",
       "</div>"
      ],
      "text/plain": [
       "             moy       age    taille      poid\n",
       "moy     1.000000 -0.322329 -0.628737 -0.567892\n",
       "age    -0.322329  1.000000  0.395515  0.485404\n",
       "taille -0.628737  0.395515  1.000000  0.366516\n",
       "poid   -0.567892  0.485404  0.366516  1.000000"
      ]
     },
     "execution_count": 99,
     "metadata": {},
     "output_type": "execute_result"
    }
   ],
   "source": [
    "X_correlation = X.corr()\n",
    "X_correlation"
   ]
  },
  {
   "cell_type": "code",
   "execution_count": 100,
   "metadata": {},
   "outputs": [],
   "source": [
    "X_corr_val_propre, X_corr_val_propre_liste= np.linalg.eig(X_correlation)"
   ]
  },
  {
   "cell_type": "code",
   "execution_count": 101,
   "metadata": {},
   "outputs": [
    {
     "data": {
      "text/plain": [
       "array([2.39089885, 0.27438366, 0.75031143, 0.58440607])"
      ]
     },
     "execution_count": 101,
     "metadata": {},
     "output_type": "execute_result"
    }
   ],
   "source": [
    "X_corr_val_propre"
   ]
  },
  {
   "cell_type": "code",
   "execution_count": 102,
   "metadata": {},
   "outputs": [
    {
     "data": {
      "text/plain": [
       "array([[ 0.53834812, -0.67153553, -0.43812579, -0.25935907],\n",
       "       [-0.44530321,  0.28548823, -0.70578764, -0.47123808],\n",
       "       [-0.50383507, -0.5041931 ,  0.46470353, -0.52534767],\n",
       "       [-0.50797301, -0.46187209, -0.30652934,  0.65930066]])"
      ]
     },
     "execution_count": 102,
     "metadata": {},
     "output_type": "execute_result"
    }
   ],
   "source": [
    "X_corr_val_propre_liste"
   ]
  },
  {
   "attachments": {},
   "cell_type": "markdown",
   "metadata": {},
   "source": [
    "Le Taux d’inertie (par rapport à l’inertie totale) projeté sur chaque axe principal \n",
    "sur la 2ème colonne."
   ]
  },
  {
   "cell_type": "code",
   "execution_count": 103,
   "metadata": {},
   "outputs": [
    {
     "data": {
      "text/plain": [
       "[2.3908988468752517,\n",
       " 0.7503114312990603,\n",
       " 0.584406066023634,\n",
       " 0.27438365580205254]"
      ]
     },
     "execution_count": 103,
     "metadata": {},
     "output_type": "execute_result"
    }
   ],
   "source": [
    "#  trie des valeurs propres \n",
    "\n",
    "X_corr_val_propre = sorted(X_corr_val_propre, reverse=True)\n",
    "X_corr_val_propre"
   ]
  },
  {
   "cell_type": "code",
   "execution_count": 104,
   "metadata": {},
   "outputs": [
    {
     "data": {
      "text/plain": [
       "array([0.59772471, 0.18757786, 0.14610152, 0.06859591])"
      ]
     },
     "execution_count": 104,
     "metadata": {},
     "output_type": "execute_result"
    }
   ],
   "source": [
    "inertie = X_corr_val_propre/ np.sum(X_corr_val_propre)\n",
    "inertie"
   ]
  },
  {
   "attachments": {},
   "cell_type": "markdown",
   "metadata": {},
   "source": [
    "Les Taux cumulés de l’information retenue sur la dernière colonne."
   ]
  },
  {
   "cell_type": "code",
   "execution_count": 105,
   "metadata": {},
   "outputs": [
    {
     "data": {
      "text/plain": [
       "array([0.59772471, 0.78530257, 0.93140409, 1.        ])"
      ]
     },
     "execution_count": 105,
     "metadata": {},
     "output_type": "execute_result"
    }
   ],
   "source": [
    "inertie_cumule = np.cumsum(inertie)\n",
    "inertie_cumule"
   ]
  },
  {
   "cell_type": "code",
   "execution_count": 106,
   "metadata": {},
   "outputs": [
    {
     "data": {
      "text/plain": [
       "array([[2.39089885, 0.59772471, 0.59772471],\n",
       "       [0.75031143, 0.18757786, 0.78530257],\n",
       "       [0.58440607, 0.14610152, 0.93140409],\n",
       "       [0.27438366, 0.06859591, 1.        ]])"
      ]
     },
     "execution_count": 106,
     "metadata": {},
     "output_type": "execute_result"
    }
   ],
   "source": [
    "mat = np.hstack((np.hstack((np.array(X_corr_val_propre).reshape(-1,1),\n",
    "                             inertie.reshape(-1,1))), inertie_cumule.reshape(-1,1)))\n",
    "mat"
   ]
  },
  {
   "cell_type": "code",
   "execution_count": 114,
   "metadata": {},
   "outputs": [
    {
     "name": "stdout",
     "output_type": "stream",
     "text": [
      "[ 2.30932135  1.87006309  1.41302973 -2.29399104 -0.93958058 -1.42653478\n",
      " -1.0237137   0.85971752  0.18341469 -0.9517263 ] \n",
      "\n",
      " [ 1.56400589  0.02896063 -0.31153954 -0.3264627  -0.36746222  0.03532969\n",
      "  0.21661592 -0.51921458  0.49848213 -0.81871523] \n",
      "\n",
      " [ 0.34532402  0.3132998   0.7778052   0.26017706  0.46942802  0.92516399\n",
      " -0.55870901 -0.2911255  -2.20549252 -0.03587105] \n",
      "\n",
      " [-0.45326633 -0.72847986 -0.78151418 -0.62236216  0.0478747   0.50735357\n",
      "  1.65356908  1.06147987 -1.02286337  0.33820869]\n"
     ]
    }
   ],
   "source": [
    "c0 = np.dot(X_centre_reduite, X_corr_val_propre_liste[0].T)\n",
    "c1 = np.dot(X_centre_reduite, X_corr_val_propre_liste[1].T)\n",
    "c2 = np.dot(X_centre_reduite, X_corr_val_propre_liste[2].T)\n",
    "c3 = np.dot(X_centre_reduite, X_corr_val_propre_liste[3].T)\n",
    "\n",
    "print(c0,\"\\n\\n\" ,c1,\"\\n\\n\",c2 ,\"\\n\\n\", c3)"
   ]
  },
  {
   "cell_type": "code",
   "execution_count": null,
   "metadata": {},
   "outputs": [],
   "source": []
  }
 ],
 "metadata": {
  "kernelspec": {
   "display_name": "Python 3",
   "language": "python",
   "name": "python3"
  },
  "language_info": {
   "codemirror_mode": {
    "name": "ipython",
    "version": 3
   },
   "file_extension": ".py",
   "mimetype": "text/x-python",
   "name": "python",
   "nbconvert_exporter": "python",
   "pygments_lexer": "ipython3",
   "version": "3.10.4"
  },
  "orig_nbformat": 4
 },
 "nbformat": 4,
 "nbformat_minor": 2
}
